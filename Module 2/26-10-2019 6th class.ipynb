{
 "cells": [
  {
   "cell_type": "code",
   "execution_count": 13,
   "metadata": {},
   "outputs": [
    {
     "name": "stdout",
     "output_type": "stream",
     "text": [
      "               b         d         e\n",
      "Utah   -0.024133  0.908685 -0.365922\n",
      "Ohio    0.178816  0.540363  0.073583\n",
      "Texas   0.597793  1.354982  0.687111\n",
      "Oregon  1.594266 -1.225030  1.621403\n",
      "            b         d         e\n",
      "man  1.594266  1.354982  1.621403\n",
      "mix -0.024133 -1.225030 -0.365922\n"
     ]
    }
   ],
   "source": [
    "import numpy as np\n",
    "import pandas as pd\n",
    "\n",
    "frame = pd.DataFrame(np.random.randn(4,3),columns = list('bde'),index=['Utah','Ohio','Texas','Oregon'])\n",
    "\n",
    "print(frame)\n",
    "\n",
    "f = lambda x:x.max()-x.min()\n",
    "df = frame.apply(f)\n",
    "\n",
    "#print(df,type(df))\n",
    "\n",
    "df = frame.apply(f,axis=1)\n",
    "#print(df)\n",
    "\n",
    "def max_min(x):\n",
    "    return pd.Series ([x.max(),x.min()],index=['man','mix'])\n",
    "\n",
    "df = frame.apply(max_min)\n",
    "print(df)"
   ]
  },
  {
   "cell_type": "code",
   "execution_count": null,
   "metadata": {},
   "outputs": [],
   "source": []
  }
 ],
 "metadata": {
  "kernelspec": {
   "display_name": "Python 3",
   "language": "python",
   "name": "python3"
  },
  "language_info": {
   "codemirror_mode": {
    "name": "ipython",
    "version": 3
   },
   "file_extension": ".py",
   "mimetype": "text/x-python",
   "name": "python",
   "nbconvert_exporter": "python",
   "pygments_lexer": "ipython3",
   "version": "3.7.3"
  }
 },
 "nbformat": 4,
 "nbformat_minor": 2
}
