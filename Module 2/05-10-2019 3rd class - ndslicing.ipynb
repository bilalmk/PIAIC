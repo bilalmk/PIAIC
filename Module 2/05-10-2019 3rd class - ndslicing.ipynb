{
 "cells": [
  {
   "cell_type": "code",
   "execution_count": 3,
   "metadata": {},
   "outputs": [
    {
     "name": "stdout",
     "output_type": "stream",
     "text": [
      "(4, 3, 4)\n",
      "3\n"
     ]
    }
   ],
   "source": [
    "#matplotlib.pylab\n",
    "import numpy as np\n",
    "ndarry = np.array(\n",
    "    [\n",
    "        [[111,112,113,114],[121,122,123,124],[131,132,134,134]],\n",
    "        [[211,212,213,214],[221,222,223,224],[231,232,234,234]],\n",
    "        [[311,312,313,314],[321,322,323,324],[331,332,334,334]],\n",
    "        [[411,412,413,414],[421,422,423,424],[431,432,434,434]],\n",
    "    ]\n",
    ")\n",
    "print(ndarry.shape)\n",
    "print(ndarry.ndim)"
   ]
  },
  {
   "cell_type": "code",
   "execution_count": 21,
   "metadata": {},
   "outputs": [
    {
     "name": "stdout",
     "output_type": "stream",
     "text": [
      "[[[122]\n",
      "  [132]]\n",
      "\n",
      " [[222]\n",
      "  [232]]\n",
      "\n",
      " [[322]\n",
      "  [332]]\n",
      "\n",
      " [[422]\n",
      "  [432]]]\n"
     ]
    }
   ],
   "source": [
    "print(ndarry[0:4,1:3,1:2])"
   ]
  },
  {
   "cell_type": "code",
   "execution_count": 7,
   "metadata": {},
   "outputs": [
    {
     "name": "stdout",
     "output_type": "stream",
     "text": [
      "Mon    False\n",
      "Tue    False\n",
      "wed     True\n",
      "Thu     True\n",
      "dtype: bool\n",
      "wed    300\n",
      "Thu    400\n",
      "dtype: int64\n"
     ]
    }
   ],
   "source": [
    "import pandas as pd\n",
    "sw = pd.Series([100,200,300,400], index=[\"Mon\",\"Tue\",\"wed\",\"Thu\"])\n",
    "print(sw>=300)\n",
    "print(sw[sw>=300])"
   ]
  },
  {
   "cell_type": "code",
   "execution_count": 12,
   "metadata": {},
   "outputs": [
    {
     "ename": "AttributeError",
     "evalue": "'dict' object has no attribute 'value'",
     "output_type": "error",
     "traceback": [
      "\u001b[1;31m---------------------------------------------------------------------------\u001b[0m",
      "\u001b[1;31mAttributeError\u001b[0m                            Traceback (most recent call last)",
      "\u001b[1;32m<ipython-input-12-6dea3391ec00>\u001b[0m in \u001b[0;36m<module>\u001b[1;34m\u001b[0m\n\u001b[0;32m      1\u001b[0m \u001b[0mdoc\u001b[0m \u001b[1;33m=\u001b[0m \u001b[1;33m{\u001b[0m\u001b[1;34m\"Mon\"\u001b[0m\u001b[1;33m:\u001b[0m\u001b[1;36m100\u001b[0m\u001b[1;33m,\u001b[0m\u001b[1;34m\"Tue\"\u001b[0m\u001b[1;33m:\u001b[0m\u001b[1;36m200\u001b[0m\u001b[1;33m,\u001b[0m\u001b[1;34m\"Wed\"\u001b[0m\u001b[1;33m:\u001b[0m\u001b[1;36m300\u001b[0m\u001b[1;33m,\u001b[0m\u001b[1;34m\"Thu\"\u001b[0m\u001b[1;33m:\u001b[0m\u001b[1;36m400\u001b[0m\u001b[1;33m}\u001b[0m\u001b[1;33m\u001b[0m\u001b[1;33m\u001b[0m\u001b[0m\n\u001b[1;32m----> 2\u001b[1;33m \u001b[0mdoc\u001b[0m\u001b[1;33m[\u001b[0m\u001b[0mdoc\u001b[0m\u001b[1;33m.\u001b[0m\u001b[0mvalue\u001b[0m\u001b[1;33m>\u001b[0m\u001b[1;36m100\u001b[0m\u001b[1;33m]\u001b[0m\u001b[1;33m\u001b[0m\u001b[1;33m\u001b[0m\u001b[0m\n\u001b[0m",
      "\u001b[1;31mAttributeError\u001b[0m: 'dict' object has no attribute 'value'"
     ]
    }
   ],
   "source": [
    "doc = {\"Mon\":100,\"Tue\":200,\"Wed\":300,\"Thu\":400}\n",
    "doc[doc.value>100]"
   ]
  },
  {
   "cell_type": "code",
   "execution_count": null,
   "metadata": {},
   "outputs": [],
   "source": []
  }
 ],
 "metadata": {
  "kernelspec": {
   "display_name": "Python 3",
   "language": "python",
   "name": "python3"
  },
  "language_info": {
   "codemirror_mode": {
    "name": "ipython",
    "version": 3
   },
   "file_extension": ".py",
   "mimetype": "text/x-python",
   "name": "python",
   "nbconvert_exporter": "python",
   "pygments_lexer": "ipython3",
   "version": "3.7.3"
  }
 },
 "nbformat": 4,
 "nbformat_minor": 2
}
