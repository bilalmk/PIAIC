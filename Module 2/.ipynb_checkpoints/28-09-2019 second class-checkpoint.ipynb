{
 "cells": [
  {
   "cell_type": "code",
   "execution_count": 13,
   "metadata": {},
   "outputs": [
    {
     "data": {
      "text/plain": [
       "array(['A', 'C', 'API', 'for', 'connecting', 'NumPy', 'with', 'libraries',\n",
       "       'written', 'in', 'C,', 'C++,', 'or', 'FORTRAN'], dtype='<U10')"
      ]
     },
     "execution_count": 13,
     "metadata": {},
     "output_type": "execute_result"
    }
   ],
   "source": [
    "#nltk punkt sentence tokenizer\n",
    "\n",
    "import numpy as np\n",
    "strVar = \"A C API for connecting NumPy with libraries written in C, C++, or FORTRAN\"\n",
    "npArry = np.array(strVar.split(\" \"))\n",
    "npArry"
   ]
  },
  {
   "cell_type": "code",
   "execution_count": 22,
   "metadata": {},
   "outputs": [
    {
     "data": {
      "text/plain": [
       "array([[ 2,  4,  6],\n",
       "       [ 8, 10, 12]])"
      ]
     },
     "execution_count": 22,
     "metadata": {},
     "output_type": "execute_result"
    }
   ],
   "source": [
    "arr1 = np.array([[1,2,3],[4,5,6]])\n",
    "#arr2 = np.array([1,2,3])\n",
    "arr2 = np.array([2])\n",
    "arr3 = arr1*arr2\n",
    "arr3"
   ]
  },
  {
   "cell_type": "code",
   "execution_count": 31,
   "metadata": {},
   "outputs": [
    {
     "name": "stdout",
     "output_type": "stream",
     "text": [
      "['NumPy, short for Numerical Python, is one of the most important foundational pack‐ages fornumerical computing in Python'\n",
      " ' Most computational packages providing scientific functionality use NumPy’s array objects as the lingua franca for data exchange'\n",
      " '']\n"
     ]
    }
   ],
   "source": [
    "import re\n",
    "text1 = \"How dare you! You can't do that! Mr.Ashhad focus on the class\"\n",
    "text1+= \"Do you want break? or if you don't want: we can practice.\"\n",
    "strvar = \"NumPy, short for Numerical Python, is one of the most important foundational pack‐ages for\"\n",
    "strvar += \"numerical computing in Python. Most computational packages providing scientific functionality use NumPy’s array objects as the lingua franca for data exchange.\"\n",
    "\n",
    "npArray = np.array(strvar.split(\".\"))\n",
    "print(npArray)"
   ]
  },
  {
   "cell_type": "code",
   "execution_count": 46,
   "metadata": {},
   "outputs": [
    {
     "name": "stdout",
     "output_type": "stream",
     "text": [
      "['A' 'C' 'API' 'for' 'NumPy' 'with' 'in' 'C,' 'C++,' 'or']\n",
      "['A' 'C' 'API' 'for' 'NumPy' 'with' 'in' 'C,' 'C++,' 'or']\n"
     ]
    }
   ],
   "source": [
    "strVar = \"A C API for connecting NumPy with libraries written in C, C++, or FORTRAN\"\n",
    "npArry = np.array(strVar.split(\" \"))\n",
    "#np.char.str_len(npArry)\n",
    "print(npArry[np.char.str_len(npArry)<=5])\n",
    "print(npArry[np.vectorize(len)(npArry)<=5])"
   ]
  },
  {
   "cell_type": "code",
   "execution_count": null,
   "metadata": {},
   "outputs": [],
   "source": []
  }
 ],
 "metadata": {
  "kernelspec": {
   "display_name": "Python 3",
   "language": "python",
   "name": "python3"
  },
  "language_info": {
   "codemirror_mode": {
    "name": "ipython",
    "version": 3
   },
   "file_extension": ".py",
   "mimetype": "text/x-python",
   "name": "python",
   "nbconvert_exporter": "python",
   "pygments_lexer": "ipython3",
   "version": "3.7.3"
  }
 },
 "nbformat": 4,
 "nbformat_minor": 2
}
