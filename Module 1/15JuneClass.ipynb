{
 "cells": [
  {
   "cell_type": "code",
   "execution_count": null,
   "metadata": {},
   "outputs": [],
   "source": [
    "#tuples are imutable while list are mutable"
   ]
  },
  {
   "cell_type": "code",
   "execution_count": 1,
   "metadata": {},
   "outputs": [
    {
     "ename": "SyntaxError",
     "evalue": "invalid syntax (<ipython-input-1-9a6cee5c86f2>, line 1)",
     "output_type": "error",
     "traceback": [
      "\u001b[1;36m  File \u001b[1;32m\"<ipython-input-1-9a6cee5c86f2>\"\u001b[1;36m, line \u001b[1;32m1\u001b[0m\n\u001b[1;33m    int myTupple = (1,2,3)\u001b[0m\n\u001b[1;37m               ^\u001b[0m\n\u001b[1;31mSyntaxError\u001b[0m\u001b[1;31m:\u001b[0m invalid syntax\n"
     ]
    }
   ],
   "source": [
    "int myTupple = (1,2,3)\n",
    "myTupple"
   ]
  },
  {
   "cell_type": "code",
   "execution_count": 2,
   "metadata": {},
   "outputs": [],
   "source": [
    "myTupple = (1,2,3)"
   ]
  },
  {
   "cell_type": "code",
   "execution_count": 3,
   "metadata": {},
   "outputs": [
    {
     "data": {
      "text/plain": [
       "(1, 2, 3)"
      ]
     },
     "execution_count": 3,
     "metadata": {},
     "output_type": "execute_result"
    }
   ],
   "source": [
    "myTupple"
   ]
  },
  {
   "cell_type": "code",
   "execution_count": 5,
   "metadata": {},
   "outputs": [],
   "source": [
    "#packing\n",
    "cities = (\"khi\",\"lhr\",\"multan\")"
   ]
  },
  {
   "cell_type": "code",
   "execution_count": 6,
   "metadata": {},
   "outputs": [],
   "source": [
    "#unpack\n",
    "largest,bigger,small = cities"
   ]
  },
  {
   "cell_type": "code",
   "execution_count": 7,
   "metadata": {},
   "outputs": [
    {
     "data": {
      "text/plain": [
       "'khi'"
      ]
     },
     "execution_count": 7,
     "metadata": {},
     "output_type": "execute_result"
    }
   ],
   "source": [
    "largest\n"
   ]
  },
  {
   "cell_type": "code",
   "execution_count": 8,
   "metadata": {},
   "outputs": [],
   "source": [
    "largest = \"Quetta\""
   ]
  },
  {
   "cell_type": "code",
   "execution_count": 9,
   "metadata": {},
   "outputs": [
    {
     "data": {
      "text/plain": [
       "'Quetta'"
      ]
     },
     "execution_count": 9,
     "metadata": {},
     "output_type": "execute_result"
    }
   ],
   "source": [
    "largest"
   ]
  },
  {
   "cell_type": "code",
   "execution_count": 10,
   "metadata": {},
   "outputs": [
    {
     "data": {
      "text/plain": [
       "('khi', 'lhr', 'multan')"
      ]
     },
     "execution_count": 10,
     "metadata": {},
     "output_type": "execute_result"
    }
   ],
   "source": [
    "cities"
   ]
  },
  {
   "cell_type": "code",
   "execution_count": 11,
   "metadata": {},
   "outputs": [],
   "source": [
    "cities = largest,bigger,small"
   ]
  },
  {
   "cell_type": "code",
   "execution_count": 12,
   "metadata": {},
   "outputs": [
    {
     "data": {
      "text/plain": [
       "('Quetta', 'lhr', 'multan')"
      ]
     },
     "execution_count": 12,
     "metadata": {},
     "output_type": "execute_result"
    }
   ],
   "source": [
    "cities"
   ]
  },
  {
   "cell_type": "code",
   "execution_count": 31,
   "metadata": {},
   "outputs": [
    {
     "name": "stdout",
     "output_type": "stream",
     "text": [
      "0 Bilal\n",
      "2 Bilal\n",
      "4 Bilal\n",
      "6 Bilal\n",
      "8 Bilal\n"
     ]
    }
   ],
   "source": [
    "#for loops\n",
    "#to print your name ten times\n",
    "#range(start,end,step)\n",
    "for x in range(0,10,2):\n",
    "    print(x,\"Bilal\")"
   ]
  },
  {
   "cell_type": "code",
   "execution_count": 33,
   "metadata": {},
   "outputs": [
    {
     "name": "stdout",
     "output_type": "stream",
     "text": [
      "10 Bilal\n",
      "9 Bilal\n",
      "8 Bilal\n",
      "7 Bilal\n",
      "6 Bilal\n",
      "5 Bilal\n",
      "4 Bilal\n",
      "3 Bilal\n",
      "2 Bilal\n",
      "1 Bilal\n"
     ]
    }
   ],
   "source": [
    "for a in range(10,0,-1):\n",
    "    print(a,\"Bilal\")"
   ]
  },
  {
   "cell_type": "code",
   "execution_count": 1,
   "metadata": {},
   "outputs": [
    {
     "name": "stdout",
     "output_type": "stream",
     "text": [
      "khi\n",
      "lhr\n",
      "isb\n",
      "psh\n"
     ]
    }
   ],
   "source": [
    "for name in [\"khi\",\"lhr\",\"isb\",\"psh\"]:\n",
    "    print(name)"
   ]
  },
  {
   "cell_type": "code",
   "execution_count": 2,
   "metadata": {},
   "outputs": [
    {
     "name": "stdout",
     "output_type": "stream",
     "text": [
      "s\n",
      "t\n",
      "r\n",
      "i\n",
      "n\n",
      "g\n"
     ]
    }
   ],
   "source": [
    "for char in \"string\":\n",
    "    print(char)"
   ]
  },
  {
   "cell_type": "code",
   "execution_count": 5,
   "metadata": {},
   "outputs": [
    {
     "name": "stdout",
     "output_type": "stream",
     "text": [
      "1\n",
      "2\n"
     ]
    }
   ],
   "source": [
    "#pass, break and continue\n",
    "for a in range(1,10):\n",
    "    if a%3==0:\n",
    "        break\n",
    "    print(a)"
   ]
  },
  {
   "cell_type": "code",
   "execution_count": 9,
   "metadata": {},
   "outputs": [
    {
     "name": "stdout",
     "output_type": "stream",
     "text": [
      "continue\n",
      "continue\n",
      "continue\n",
      "continue\n",
      "break\n"
     ]
    }
   ],
   "source": [
    "friends = ['a','b','c','d','e','f']\n",
    "for friend in friends:\n",
    "    if(friend!='e'):\n",
    "        print(\"continue\")\n",
    "    else:\n",
    "        print(\"break\")\n",
    "        break"
   ]
  },
  {
   "cell_type": "code",
   "execution_count": 11,
   "metadata": {},
   "outputs": [],
   "source": [
    "for a in range(10):\n",
    "    pass"
   ]
  },
  {
   "cell_type": "code",
   "execution_count": 29,
   "metadata": {},
   "outputs": [
    {
     "name": "stdout",
     "output_type": "stream",
     "text": [
      "enter table number : 13\n",
      "enter table range : 23\n",
      "13 X 1 = 13\n",
      "13 X 2 = 26\n",
      "13 X 3 = 39\n",
      "13 X 4 = 52\n",
      "13 X 5 = 65\n",
      "13 X 6 = 78\n",
      "13 X 7 = 91\n",
      "13 X 8 = 104\n",
      "13 X 9 = 117\n",
      "13 X 10 = 130\n",
      "13 X 11 = 143\n",
      "13 X 12 = 156\n",
      "13 X 13 = 169\n",
      "13 X 14 = 182\n",
      "13 X 15 = 195\n",
      "13 X 16 = 208\n",
      "13 X 17 = 221\n",
      "13 X 18 = 234\n",
      "13 X 19 = 247\n",
      "13 X 20 = 260\n",
      "13 X 21 = 273\n",
      "13 X 22 = 286\n",
      "13 X 23 = 299\n"
     ]
    }
   ],
   "source": [
    "tableNo = int(input(\"enter table number : \"))\n",
    "tableRange = int(input(\"enter table range : \"))\n",
    "\n",
    "for i in range(1,tableRange+1):\n",
    "    print(f\"{tableNo} X {i} = {tableNo*i}\")\n",
    "    #print(a,\" x \",i,\" = \",a*i)"
   ]
  },
  {
   "cell_type": "code",
   "execution_count": 30,
   "metadata": {},
   "outputs": [
    {
     "name": "stdout",
     "output_type": "stream",
     "text": [
      "2 X 1 = 2\n",
      "2 X 2 = 4\n",
      "2 X 3 = 6\n",
      "2 X 4 = 8\n",
      "2 X 5 = 10\n",
      "2 X 6 = 12\n",
      "2 X 7 = 14\n",
      "2 X 8 = 16\n",
      "2 X 9 = 18\n",
      "2 X 10 = 20\n",
      "=========================\n",
      "4 X 1 = 4\n",
      "4 X 2 = 8\n",
      "4 X 3 = 12\n",
      "4 X 4 = 16\n",
      "4 X 5 = 20\n",
      "4 X 6 = 24\n",
      "4 X 7 = 28\n",
      "4 X 8 = 32\n",
      "4 X 9 = 36\n",
      "4 X 10 = 40\n",
      "=========================\n",
      "6 X 1 = 6\n",
      "6 X 2 = 12\n",
      "6 X 3 = 18\n",
      "6 X 4 = 24\n",
      "6 X 5 = 30\n",
      "6 X 6 = 36\n",
      "6 X 7 = 42\n",
      "6 X 8 = 48\n",
      "6 X 9 = 54\n",
      "6 X 10 = 60\n",
      "=========================\n",
      "8 X 1 = 8\n",
      "8 X 2 = 16\n",
      "8 X 3 = 24\n",
      "8 X 4 = 32\n",
      "8 X 5 = 40\n",
      "8 X 6 = 48\n",
      "8 X 7 = 56\n",
      "8 X 8 = 64\n",
      "8 X 9 = 72\n",
      "8 X 10 = 80\n",
      "=========================\n"
     ]
    }
   ],
   "source": [
    "tables = range(2,10,2)\n",
    "for table in tables:\n",
    "    for i in range(1,11):\n",
    "        print(f\"{table} X {i} = {table*i}\")\n",
    "    print(\"=========================\");"
   ]
  },
  {
   "cell_type": "markdown",
   "metadata": {},
   "source": [
    "# Dictionary"
   ]
  },
  {
   "cell_type": "code",
   "execution_count": 80,
   "metadata": {},
   "outputs": [
    {
     "name": "stdout",
     "output_type": "stream",
     "text": [
      "7\n"
     ]
    }
   ],
   "source": [
    "#list[] value could be change and accessed using index\n",
    "#tupple() value are fixed and can't be change. can be accessed using index like list\n",
    "#dictionary{} value are saved as key-value paried\n",
    "\n",
    "#myDic={}\n",
    "#type(myDic)\n",
    "#len(myDic)\n",
    "\n",
    "myDic={\n",
    "    \"name\":\"PIAIC\",\n",
    "    \"age\":7,\n",
    "    \"degree\":\"BS\",\n",
    "    \"cell\":\"1234677878\"\n",
    "}\n",
    "print(myDic[\"age\"])"
   ]
  },
  {
   "cell_type": "code",
   "execution_count": 50,
   "metadata": {},
   "outputs": [
    {
     "name": "stdout",
     "output_type": "stream",
     "text": [
      "Key is name, and Value is PIAIC\n",
      "Key is age, and Value is 7\n",
      "Key is degree, and Value is BS\n",
      "Key is cell, and Value is 1234677878\n"
     ]
    }
   ],
   "source": [
    "# methods in dictionay are keys(),values(),items()\n",
    "for k,v in myDic.items():\n",
    "    print(f\"Key is {k}, and Value is {v}\")"
   ]
  },
  {
   "cell_type": "code",
   "execution_count": 54,
   "metadata": {},
   "outputs": [
    {
     "name": "stdout",
     "output_type": "stream",
     "text": [
      "Key is name, and Value is PIAIC\n",
      "Key is age, and Value is 7\n",
      "Key is degree, and Value is BS\n",
      "Key is cell, and Value is 1234677878\n"
     ]
    }
   ],
   "source": [
    "for k in myDic.keys():\n",
    "    print(f\"Key is {k}, and Value is {myDic[k]}\")"
   ]
  },
  {
   "cell_type": "code",
   "execution_count": 52,
   "metadata": {},
   "outputs": [
    {
     "name": "stdout",
     "output_type": "stream",
     "text": [
      "Value is PIAIC\n",
      "Value is 7\n",
      "Value is BS\n",
      "Value is 1234677878\n"
     ]
    }
   ],
   "source": [
    "for v in myDic.values():\n",
    "    print(f\"Value is {v}\")"
   ]
  },
  {
   "cell_type": "code",
   "execution_count": 55,
   "metadata": {},
   "outputs": [
    {
     "name": "stdout",
     "output_type": "stream",
     "text": [
      "Key is name, and Value is PIAIC\n",
      "Key is age, and Value is 7\n",
      "Key is degree, and Value is BS\n",
      "Key is cell, and Value is 1234677878\n"
     ]
    }
   ],
   "source": [
    "for k,v in myDic.items():\n",
    "    print(f\"Key is {k}, and Value is {v}\")"
   ]
  },
  {
   "cell_type": "markdown",
   "metadata": {},
   "source": [
    "# List in List"
   ]
  },
  {
   "cell_type": "code",
   "execution_count": 72,
   "metadata": {},
   "outputs": [
    {
     "data": {
      "text/plain": [
       "['apple', 'orange', [11, 22, 33], [55, 66, 77, 88, [11, 22, 33]]]"
      ]
     },
     "execution_count": 72,
     "metadata": {},
     "output_type": "execute_result"
    }
   ],
   "source": [
    "# In list del function will use to delete the value by index and remove function will use to delete by value\n",
    "a = [11,22,33,44]\n",
    "b = [55,66,77,88,a]\n",
    "c = [\"apple\",\"orange\",a,b]\n",
    "c\n",
    "a[3]\n",
    "c[3]\n",
    "c[3][2]\n",
    "c[3][1:]\n",
    "#del c[3][1]\n",
    "#c\n",
    "c[2].remove(44)\n",
    "c"
   ]
  },
  {
   "cell_type": "code",
   "execution_count": 73,
   "metadata": {},
   "outputs": [],
   "source": [
    "#list in list\n",
    "#dictionary in list\n",
    "#tuple in list\n",
    "#=====================\n",
    "#list in dic\n",
    "#dic in dic\n",
    "#tuple in dic\n",
    "#================\n",
    "#tuple in tuple\n",
    "#list in tuple\n",
    "#dic in tuple\n",
    "\n"
   ]
  },
  {
   "cell_type": "markdown",
   "metadata": {},
   "source": [
    "# Dictionary in List"
   ]
  },
  {
   "cell_type": "code",
   "execution_count": 87,
   "metadata": {},
   "outputs": [
    {
     "name": "stdout",
     "output_type": "stream",
     "text": [
      "PIAIC\n"
     ]
    },
    {
     "data": {
      "text/plain": [
       "[11, 22, 33, {'name': 'PIAIC', 'age': 7, 'degree': 'BS', 'cell': '1234677878'}]"
      ]
     },
     "execution_count": 87,
     "metadata": {},
     "output_type": "execute_result"
    }
   ],
   "source": [
    "\n",
    "myDic={\n",
    "    \"name\":\"PIAIC\",\n",
    "    \"age\":7,\n",
    "    \"degree\":\"BS\",\n",
    "    \"cell\":\"1234677878\"\n",
    "}\n",
    "\n",
    "aa = [11,22,33,myDic]\n",
    "aa\n",
    "print(aa[3][\"name\"])\n",
    "#del aa[3][\"name\"]\n",
    "aa"
   ]
  },
  {
   "cell_type": "code",
   "execution_count": 76,
   "metadata": {},
   "outputs": [
    {
     "name": "stdout",
     "output_type": "stream",
     "text": [
      "PIAIC\n"
     ]
    }
   ],
   "source": [
    "print(aa[3][\"name\"])"
   ]
  },
  {
   "cell_type": "markdown",
   "metadata": {},
   "source": [
    "# List in Dictionary"
   ]
  },
  {
   "cell_type": "code",
   "execution_count": 95,
   "metadata": {},
   "outputs": [
    {
     "data": {
      "text/plain": [
       "{'names': ['a', 'b', 'c', 'd', 'e', 'f', 'h']}"
      ]
     },
     "execution_count": 95,
     "metadata": {},
     "output_type": "execute_result"
    }
   ],
   "source": [
    "dd = {'names':['a','b','c','d','e','f','g','h']}\n",
    "dd['names']\n",
    "dd['names'][4]\n",
    "#del dd['names'][4]\n",
    "dd['names'].remove('g')\n",
    "dd"
   ]
  },
  {
   "cell_type": "markdown",
   "metadata": {},
   "source": [
    "# Dic in Dic"
   ]
  },
  {
   "cell_type": "code",
   "execution_count": 111,
   "metadata": {},
   "outputs": [
    {
     "name": "stdout",
     "output_type": "stream",
     "text": [
      "{'names': {'name': 'PIAIC', 'age': 7, 'degree': 'BS', 'cell': '1234677878'}}\n",
      "{'names': {'name': 'PIAIC', 'age': 7, 'degree': 'BS', 'cell': '1234677878'}, 'hello': 'python'}\n",
      "{'names': {'name': 'PIAIC', 'age': 7, 'degree': 'BS', 'cell': '1234677878'}}\n"
     ]
    }
   ],
   "source": [
    "#pop is use to remove the values for dic,list\n",
    "qq = {\"names\":myDic,\"names1\":{\"age\":8}}\n",
    "qq[\"names\"][\"age\"]\n",
    "qq\n",
    "qq.pop(\"names1\")\n",
    "print(qq)\n",
    "qq[\"hello\"]=\"python\"\n",
    "print(qq)\n",
    "qq.pop('hello')\n",
    "print(qq)"
   ]
  },
  {
   "cell_type": "code",
   "execution_count": null,
   "metadata": {},
   "outputs": [],
   "source": [
    "#check dic pop method"
   ]
  }
 ],
 "metadata": {
  "kernelspec": {
   "display_name": "Python 3",
   "language": "python",
   "name": "python3"
  },
  "language_info": {
   "codemirror_mode": {
    "name": "ipython",
    "version": 3
   },
   "file_extension": ".py",
   "mimetype": "text/x-python",
   "name": "python",
   "nbconvert_exporter": "python",
   "pygments_lexer": "ipython3",
   "version": "3.7.3"
  }
 },
 "nbformat": 4,
 "nbformat_minor": 2
}
