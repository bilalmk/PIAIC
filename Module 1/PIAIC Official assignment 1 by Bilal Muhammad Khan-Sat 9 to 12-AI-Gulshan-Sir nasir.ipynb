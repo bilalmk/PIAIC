{
 "cells": [
  {
   "cell_type": "markdown",
   "metadata": {},
   "source": [
    "## 1. Calculate Area of a Circle"
   ]
  },
  {
   "cell_type": "markdown",
   "metadata": {},
   "source": [
    "#### Write a Python program which accepts the radius of a circle from the user and compute the area.\n",
    "###### Program Console Sample Output 1:\n",
    "###### Input Radius: 0.5\n",
    "###### Area of Circle with radius 0.5 is 0.7853981634"
   ]
  },
  {
   "cell_type": "code",
   "execution_count": 15,
   "metadata": {},
   "outputs": [
    {
     "name": "stdout",
     "output_type": "stream",
     "text": [
      "Enter radius of circle: 0.5\n",
      "Area of circle with radius 0.5 is 0.7853981635\n"
     ]
    }
   ],
   "source": [
    "pi = 3.141592654\n",
    "try:\n",
    "    radius = float(input(\"Enter radius of circle: \"))\n",
    "    circle = radius**2*pi\n",
    "    print(\"Area of circle with radius {0} is {1}\".format(radius,circle))\n",
    "except ValueError:\n",
    "    print(\"Please provide numeric value for radius\")\n",
    "except:\n",
    "    print(\"something went wrong with code, please check\")\n",
    "    "
   ]
  },
  {
   "cell_type": "markdown",
   "metadata": {},
   "source": [
    "## 2. Check Number either positive, negative or zero"
   ]
  },
  {
   "cell_type": "markdown",
   "metadata": {},
   "source": [
    "#### Write a Python program to check if a number is positive, negative or zero\n",
    "###### Program Console Sample Output 1:\n",
    "###### Enter Number: -1\n",
    "##### Negative Number Entered\n",
    "###### Program Console Sample Output 2:\n",
    "##### Integer: 3\n",
    "##### Positive Number Entered\n",
    "###### Program Console Sample Output 3:\n",
    "##### Integer: 0\n",
    "###### Zero Entered"
   ]
  },
  {
   "cell_type": "code",
   "execution_count": 16,
   "metadata": {},
   "outputs": [
    {
     "name": "stdout",
     "output_type": "stream",
     "text": [
      "Enter a numeric value = -1\n",
      "-1 is a Negative Number\n"
     ]
    }
   ],
   "source": [
    "try:\n",
    "    num = int(input(\"Enter a numeric value = \"))\n",
    "    if(num>0):\n",
    "        print(\"{0} is a Positive Number\".format(num))\n",
    "    elif(num<0):\n",
    "        print(\"{0} is a Negative Number\".format(num))\n",
    "    else:\n",
    "        print(\"Provided number is a Zero\".format(num))\n",
    "except ValueError:\n",
    "    print(\"Only numeric value is allowed\")\n",
    "except:\n",
    "    print(\"Something went wrong in your program\")"
   ]
  },
  {
   "cell_type": "code",
   "execution_count": 17,
   "metadata": {},
   "outputs": [
    {
     "name": "stdout",
     "output_type": "stream",
     "text": [
      "Enter a numeric value = 3\n",
      "3 is a Positive Number\n"
     ]
    }
   ],
   "source": [
    "try:\n",
    "    num = int(input(\"Enter a numeric value = \"))\n",
    "    if(num>0):\n",
    "        print(\"{0} is a Positive Number\".format(num))\n",
    "    elif(num<0):\n",
    "        print(\"{0} is a Negative Number\".format(num))\n",
    "    else:\n",
    "        print(\"Provided number is a Zero\".format(num))\n",
    "except ValueError:\n",
    "    print(\"Only numeric value is allowed\")\n",
    "except:\n",
    "    print(\"Something went wrong in your program\")"
   ]
  },
  {
   "cell_type": "code",
   "execution_count": 18,
   "metadata": {},
   "outputs": [
    {
     "name": "stdout",
     "output_type": "stream",
     "text": [
      "Enter a numeric value = 0\n",
      "Provided number is a Zero\n"
     ]
    }
   ],
   "source": [
    "try:\n",
    "    num = int(input(\"Enter a numeric value = \"))\n",
    "    if(num>0):\n",
    "        print(\"{0} is a Positive Number\".format(num))\n",
    "    elif(num<0):\n",
    "        print(\"{0} is a Negative Number\".format(num))\n",
    "    else:\n",
    "        print(\"Provided number is a Zero\".format(num))\n",
    "except ValueError:\n",
    "    print(\"Only numeric value is allowed\")\n",
    "except:\n",
    "    print(\"Something went wrong in your program\")"
   ]
  },
  {
   "cell_type": "markdown",
   "metadata": {},
   "source": [
    "## 3. Divisibility Check of two numbers"
   ]
  },
  {
   "cell_type": "markdown",
   "metadata": {},
   "source": [
    "#### Write a Python program to check whether a number is completely divisible by another number. Accept two integer values form the user\n",
    "##### Program Console Sample Output 1:\n",
    "###### Enter numerator: 4\n",
    "###### Enter Denominator: 2\n",
    "##### Number 4 is Completely divisible by 2\n",
    "###### Program Console Sample Output 2:\n",
    "##### Enter numerator: 7\n",
    "\n",
    "##### Enter Denominator: 4\n",
    "###### Number 7 is not Completely divisible by 4"
   ]
  },
  {
   "cell_type": "code",
   "execution_count": 19,
   "metadata": {},
   "outputs": [
    {
     "name": "stdout",
     "output_type": "stream",
     "text": [
      "Enter Numerator : 4\n",
      "Enter Denominator : 2\n",
      "Number 4 is completely divisible by 2\n"
     ]
    }
   ],
   "source": [
    "try:\n",
    "    numerator = int(input(\"Enter Numerator : \"))\n",
    "    denominator = int(input(\"Enter Denominator : \"))\n",
    "    if(numerator%denominator==0):\n",
    "        print(\"Number {0} is completely divisible by {1}\".format(numerator,denominator))\n",
    "    else:\n",
    "        print(\"Number {0} is NOT completely divisible by {1}\".format(numerator,denominator))\n",
    "except ValueError:\n",
    "    print(\"Numerator and Denominator should be numeric only\")\n",
    "except:\n",
    "    print(\"Something went wrong in your program\")"
   ]
  },
  {
   "cell_type": "code",
   "execution_count": 20,
   "metadata": {},
   "outputs": [
    {
     "name": "stdout",
     "output_type": "stream",
     "text": [
      "Enter Numerator : 7\n",
      "Enter Denominator : 4\n",
      "Number 7 is NOT completely divisible by 4\n"
     ]
    }
   ],
   "source": [
    "try:\n",
    "    numerator = int(input(\"Enter Numerator : \"))\n",
    "    denominator = int(input(\"Enter Denominator : \"))\n",
    "    if(numerator%denominator==0):\n",
    "        print(\"Number {0} is completely divisible by {1}\".format(numerator,denominator))\n",
    "    else:\n",
    "        print(\"Number {0} is NOT completely divisible by {1}\".format(numerator,denominator))\n",
    "except ValueError:\n",
    "    print(\"Numerator and Denominator should be numeric only\")\n",
    "except:\n",
    "    print(\"Something went wrong in your program\")"
   ]
  },
  {
   "cell_type": "markdown",
   "metadata": {},
   "source": [
    "## 4. Calculate Volume of a sphere"
   ]
  },
  {
   "cell_type": "markdown",
   "metadata": {},
   "source": [
    "##### Write a Python program to get the volume of a sphere, please take the radius as input from user"
   ]
  },
  {
   "cell_type": "markdown",
   "metadata": {},
   "source": [
    "##### Program Console Output:\n",
    "##### Enter Radius of Sphere: 1\n",
    "###### Volume of the Sphere with Radius 1 is 4.18"
   ]
  },
  {
   "cell_type": "code",
   "execution_count": 4,
   "metadata": {},
   "outputs": [
    {
     "name": "stdout",
     "output_type": "stream",
     "text": [
      "Enter radius of sphere : 1\n",
      "Volume of the Sphere with radius 1 is 4.19\n"
     ]
    }
   ],
   "source": [
    "pi = 3.141592654\n",
    "try:\n",
    "    radius = int(input(\"Enter radius of sphere : \"))\n",
    "    volume = round((4/3)*pi*radius**3,2)\n",
    "    \n",
    "    print(\"Volume of the Sphere with radius {0} is {1}\".format(radius,volume))\n",
    "except ValueError:\n",
    "    print(\"Please provide numeric value for radius\")\n",
    "except:\n",
    "    print(\"something went wrong with code, please check\")\n"
   ]
  },
  {
   "cell_type": "markdown",
   "metadata": {},
   "source": [
    "## 5. Copy string n times\n",
    "#### Write a Python program to get a string which is n (non-negative integer) copies of a given string.\n",
    "##### Program Console Output:\n",
    "##### Enter String: Hi\n",
    "###### How many copies of String you need: 4\n",
    "###### 4 Copies of Hi are HiHiHiHi"
   ]
  },
  {
   "cell_type": "code",
   "execution_count": 31,
   "metadata": {},
   "outputs": [
    {
     "name": "stdout",
     "output_type": "stream",
     "text": [
      "Enter String : Hi\n",
      "How many copies of String your need : 4\n",
      "4 Copies of Hi are HiHiHiHi\n"
     ]
    }
   ],
   "source": [
    "try:\n",
    "    varStr = input(\"Enter String : \")\n",
    "    numberOfCopies = int(input(\"How many copies of String your need : \"))\n",
    "    if(numberOfCopies>0):\n",
    "        print(\"{0} Copies of {1} are {2}\".format(numberOfCopies,varStr,varStr*numberOfCopies))\n",
    "    else:\n",
    "        print(\"Please provide non-negative valid integer value for number of copies\")\n",
    "except ValueError:\n",
    "    print(\"Number of copies should be integer value only\")\n",
    "except:\n",
    "    print(\"Something went wrong in your program\")"
   ]
  },
  {
   "cell_type": "markdown",
   "metadata": {},
   "source": [
    "## 6. Check if number is Even or Odd\n",
    "### Write a Python program to find whether a given number (accept from the user) is even or odd, print out an appropriate message to the user\n",
    "#### Program Console Output 1:\n",
    "##### Enter Number: 4\n",
    "###### 4 is Even\n",
    "#### Program Console Output 2:\n",
    "##### Enter Number: 9\n",
    "###### 9 is Odd"
   ]
  },
  {
   "cell_type": "code",
   "execution_count": 21,
   "metadata": {},
   "outputs": [
    {
     "name": "stdout",
     "output_type": "stream",
     "text": [
      "Enter Number : 4\n",
      "4 is even\n"
     ]
    }
   ],
   "source": [
    "try:\n",
    "    num = int(input(\"Enter Number : \"))\n",
    "    if(num%2==0):\n",
    "        print(\"{0} is even\".format(num))\n",
    "    else:\n",
    "        print(\"{0} is odd\".format(num))\n",
    "except ValueError:\n",
    "    print(\"Only integer value is allowed\")\n",
    "except:\n",
    "    print(\"Something went wrong in your program\")"
   ]
  },
  {
   "cell_type": "code",
   "execution_count": 22,
   "metadata": {},
   "outputs": [
    {
     "name": "stdout",
     "output_type": "stream",
     "text": [
      "Enter Number : 9\n",
      "9 is odd\n"
     ]
    }
   ],
   "source": [
    "try:\n",
    "    num = int(input(\"Enter Number : \"))\n",
    "    if(num%2==0):\n",
    "        print(\"{0} is even\".format(num))\n",
    "    else:\n",
    "        print(\"{0} is odd\".format(num))\n",
    "except ValueError:\n",
    "    print(\"Only integer value is allowed\")\n",
    "except:\n",
    "    print(\"Something went wrong in your program\")"
   ]
  },
  {
   "cell_type": "markdown",
   "metadata": {},
   "source": [
    "## 7. Vowel Tester\n",
    "### Write a Python program to test whether a passed letter is a vowel or not\n",
    "#### Program Console Output 1:\n",
    "##### Enter a character: A\n",
    "###### Letter A is Vowel\n",
    "#### Program Console Output 2:\n",
    "##### Enter a character: e\n",
    "###### Letter e is Vowel\n",
    "#### Program Console Output 2:\n",
    "##### Enter a character: N\n",
    "###### Letter N is not Vowel"
   ]
  },
  {
   "cell_type": "code",
   "execution_count": 23,
   "metadata": {},
   "outputs": [
    {
     "name": "stdout",
     "output_type": "stream",
     "text": [
      "Enter a character: A\n",
      "Letter A is Vowel\n"
     ]
    }
   ],
   "source": [
    "try:\n",
    "    vowelList = [\"a\",\"e\",\"i\",\"o\",\"u\"]\n",
    "    vowel = input(\"Enter a character: \")\n",
    "    if vowel.lower() in vowelList:\n",
    "        print(\"Letter {0} is Vowel\".format(vowel))\n",
    "    else:\n",
    "        print(\"Letter {0} is NOT Vowel\".format(vowel))\n",
    "except:\n",
    "    print(\"Something went wrong in your program\")"
   ]
  },
  {
   "cell_type": "code",
   "execution_count": 24,
   "metadata": {},
   "outputs": [
    {
     "name": "stdout",
     "output_type": "stream",
     "text": [
      "Enter a character: e\n",
      "Letter e is Vowel\n"
     ]
    }
   ],
   "source": [
    "try:\n",
    "    vowelList = [\"a\",\"e\",\"i\",\"o\",\"u\"]\n",
    "    vowel = input(\"Enter a character: \")\n",
    "    if vowel.lower() in vowelList:\n",
    "        print(\"Letter {0} is Vowel\".format(vowel))\n",
    "    else:\n",
    "        print(\"Letter {0} is NOT Vowel\".format(vowel))\n",
    "except:\n",
    "    print(\"Something went wrong in your program\")"
   ]
  },
  {
   "cell_type": "code",
   "execution_count": 25,
   "metadata": {},
   "outputs": [
    {
     "name": "stdout",
     "output_type": "stream",
     "text": [
      "Enter a character: N\n",
      "Letter N is NOT Vowel\n"
     ]
    }
   ],
   "source": [
    "try:\n",
    "    vowelList = [\"a\",\"e\",\"i\",\"o\",\"u\"]\n",
    "    vowel = input(\"Enter a character: \")\n",
    "    if vowel.lower() in vowelList:\n",
    "        print(\"Letter {0} is Vowel\".format(vowel))\n",
    "    else:\n",
    "        print(\"Letter {0} is NOT Vowel\".format(vowel))\n",
    "except:\n",
    "    print(\"Something went wrong in your program\")"
   ]
  },
  {
   "cell_type": "markdown",
   "metadata": {},
   "source": [
    "## 8. Triangle area\n",
    "### Write a Python program that will accept the base and height of a triangle and compute the area\n",
    "###### Reference:\n",
    "https://www.mathgoodies.com/lessons/vol1/area_triangle"
   ]
  },
  {
   "cell_type": "code",
   "execution_count": 19,
   "metadata": {},
   "outputs": [
    {
     "name": "stdout",
     "output_type": "stream",
     "text": [
      "Enter Base Value : 10\n",
      "Enter Height Value : 3\n",
      "Area of tringle is 15\n"
     ]
    }
   ],
   "source": [
    "try:\n",
    "    base = int(input(\"Enter Base Value : \"))\n",
    "    height = int(input(\"Enter Height Value : \"))\n",
    "    if(base>0 and height>0):\n",
    "        area = round((base*height)/2)\n",
    "        print(\"Area of tringle is {0}\".format(area))\n",
    "    else:\n",
    "        print(\"only positive integer values are allowed for base and height\")\n",
    "except ValueError:\n",
    "    print(\"only integer values are allowed for base and height\")\n",
    "except:\n",
    "    print(\"something went wrong in your program\")\n",
    "    "
   ]
  },
  {
   "cell_type": "markdown",
   "metadata": {},
   "source": [
    "## 9. Calculate Interest\n",
    "### Write a Python program to compute the future value of a specified principal amount, rate of interest, and a number of years\n",
    "#### Program Console Sample 1:\n",
    "##### Please enter principal amount: 10000\n",
    "###### Please Enter Rate of interest in %: 0.1\n",
    "###### Enter number of years for investment: 5\n",
    "###### After 5 years your principal amount 10000 over an interest rate of 0.1 % will be 16105.1"
   ]
  },
  {
   "cell_type": "code",
   "execution_count": 27,
   "metadata": {},
   "outputs": [
    {
     "name": "stdout",
     "output_type": "stream",
     "text": [
      "Please enter principal amount: 10000\n",
      "Please Enter Rate of interest in %: 0.1\n",
      "Enter number of years for investment: 5\n",
      "After 5 years your principal amount 10000 over an interest rate of 0.1 % will be 16105.1\n"
     ]
    }
   ],
   "source": [
    "try:\n",
    "    principalAmount = int(input(\"Please enter principal amount: \"))\n",
    "    rateOfInterest = float(input(\"Please Enter Rate of interest in %: \"))\n",
    "    numberOfYears = int(input(\"Enter number of years for investment: \"))\n",
    "    if(principalAmount>=0):\n",
    "        if(rateOfInterest>=0):\n",
    "            if(numberOfYears>=0):\n",
    "                totalAmount=principalAmount\n",
    "                for x in range(numberOfYears):\n",
    "                    totalAmount += totalAmount*rateOfInterest\n",
    "                print(f\"After {numberOfYears} years your principal amount {principalAmount} over an interest rate of {rateOfInterest} % will be {totalAmount}\")\n",
    "            else:\n",
    "                print(\"Number of years can not be a negative number\")\n",
    "        else:\n",
    "            print(\"Rate of Interest can not be a negative value\")\n",
    "    else:\n",
    "        print(\"Principal Amount can not be a negative number\")\n",
    "    \n",
    "except ErrorValue:\n",
    "    print(\"only numeric values are allowed\")\n",
    "except:\n",
    "    print(\"something went wrong in your program\")"
   ]
  },
  {
   "cell_type": "markdown",
   "metadata": {},
   "source": [
    "## 10. Euclidean distance\n",
    "### write a Python program to compute the distance between the points (x1, y1) and (x2, y2).\n",
    "#### Program Console Sample 1:\n",
    "###### Enter Co-ordinate for x1: 2\n",
    "###### Enter Co-ordinate for x2: 4\n",
    "###### Enter Co-ordinate for y1: 4\n",
    "###### Enter Co-ordinate for y2: 4\n",
    "###### Distance between points (2, 4) and (4, 4) is 2"
   ]
  },
  {
   "cell_type": "markdown",
   "metadata": {},
   "source": [
    "###### Reference:\n",
    "https://en.wikipedia.org/wiki/Euclidean_distance"
   ]
  },
  {
   "cell_type": "code",
   "execution_count": 7,
   "metadata": {},
   "outputs": [
    {
     "name": "stdout",
     "output_type": "stream",
     "text": [
      "Enter Co-ordinate for x1: 2\n",
      "Enter Co-ordinate for x2: 4\n",
      "Enter Co-ordinate for y1: 4\n",
      "Enter Co-ordinate for y2: 4\n",
      "Distance between points (2, 4) and (4,4) is 2\n"
     ]
    }
   ],
   "source": [
    "import math\n",
    "try:\n",
    "    x1 = int(input(\"Enter Co-ordinate for x1: \"))\n",
    "    x2 = int(input(\"Enter Co-ordinate for x2: \"))\n",
    "    y1 = int(input(\"Enter Co-ordinate for y1: \"))\n",
    "    y2 = int(input(\"Enter Co-ordinate for y2: \"))\n",
    "    distance = math.sqrt(((x2-x1)**2)+((y2-y1)**2))\n",
    "    print(f\"Distance between points ({x1}, {x2}) and ({y1},{y2}) is {round(distance)}\")\n",
    "except ValueError:\n",
    "    print(\"only numeric values are allowed for distance formulla\")\n",
    "except:\n",
    "    print(\"something went wrong in your program\")"
   ]
  },
  {
   "cell_type": "markdown",
   "metadata": {},
   "source": [
    "## 11. Feet to Centimeter Converter\n",
    "### Write a Python program to convert height in feet to centimetres.\n",
    "##### Program Console Sample 1:\n",
    "###### Enter Height in Feet: 5\n",
    "###### There are 152.4 Cm in 5 ft\n",
    "###### Reference:\n",
    "https://www.rapidtables.com/convert/length/feet-to-cm.html"
   ]
  },
  {
   "cell_type": "code",
   "execution_count": 8,
   "metadata": {},
   "outputs": [
    {
     "name": "stdout",
     "output_type": "stream",
     "text": [
      "Enter Height in Feet: 5\n",
      "There are 152.4 Cm in 5.0 ft\n"
     ]
    }
   ],
   "source": [
    "try:\n",
    "    feet = float(input(\"Enter Height in Feet: \"))\n",
    "    if(feet>0):\n",
    "        height = round(feet*30.48,2);\n",
    "        print(f\"There are {height} Cm in {feet} ft\")\n",
    "    else:\n",
    "        print(\"Height can't be negative or zero\")\n",
    "except ValueError:\n",
    "    print(\"only numeric values are allowed\")\n",
    "except:\n",
    "    print(\"something went worng in your program\")"
   ]
  },
  {
   "cell_type": "markdown",
   "metadata": {},
   "source": [
    "## 12. BMI Calculator\n",
    "### Write a Python program to calculate body mass index\n",
    "##### Program Console Sample 1:\n",
    "###### Enter Height in Cm: 180\n",
    "###### Enter Weight in Kg: 75\n",
    "###### Your BMI is 23.15"
   ]
  },
  {
   "cell_type": "code",
   "execution_count": 14,
   "metadata": {},
   "outputs": [
    {
     "name": "stdout",
     "output_type": "stream",
     "text": [
      "Enter Height in Cm: 180\n",
      "Enter Weight in Kg: 75\n",
      "Your BMI is 23.15\n"
     ]
    }
   ],
   "source": [
    "try:\n",
    "    heightCm = float(input(\"Enter Height in Cm: \"))\n",
    "    weight = float(input(\"Enter Weight in Kg: \"))\n",
    "    if(heightCm>0):\n",
    "        if(weight>0):\n",
    "            heightMeters = heightCm/100;\n",
    "            BMI = weight/(heightMeters)**2\n",
    "            print(\"Your BMI is {0}\".format(round(BMI,2)))\n",
    "        else:\n",
    "            print(\"Weight can not be a zero or negative value\")\n",
    "    else:\n",
    "        print(\"Height can not be a zero or negative value\")\n",
    "    \n",
    "except ValueError:\n",
    "    print(\"only numeric values are allowed\")\n",
    "except:\n",
    "    print(\"something went worng in your program\")"
   ]
  },
  {
   "cell_type": "markdown",
   "metadata": {},
   "source": [
    "## 13. Sum of n Positive Integers\n",
    "### Write a python program to sum of the first n positive integers\n",
    "#### Program Console Sample 1:\n",
    "###### Enter value of n: 5\n",
    "###### Sum of n Positive integers till 5 is 15"
   ]
  },
  {
   "cell_type": "code",
   "execution_count": 20,
   "metadata": {},
   "outputs": [
    {
     "name": "stdout",
     "output_type": "stream",
     "text": [
      "Enter value of n: 5\n",
      "Sum of n Positive integers till 5 is 15\n"
     ]
    }
   ],
   "source": [
    "try:\n",
    "    num = int(input(\"Enter value of n: \"))\n",
    "    if(num>=0):\n",
    "        sum=0\n",
    "        for x in range(1,num+1):\n",
    "            sum+= x\n",
    "        print(f\"Sum of n Positive integers till {num} is {sum}\")\n",
    "    else:\n",
    "        print(\"Negative value is not allowed\")\n",
    "except ValueError:\n",
    "    print(\"only integer values are allowed\")\n",
    "except:\n",
    "    print(\"something went worng in your program\")"
   ]
  },
  {
   "cell_type": "markdown",
   "metadata": {},
   "source": [
    "## 14. Digits Sum of a Number\n",
    "### Write a Python program to calculate the sum of the digits in an integer\n",
    "#### Program Console Sample 1:\n",
    "##### Enter a number: 15\n",
    "###### Sum of 1 + 5 is 6\n",
    "#### Program Console Sample 2:\n",
    "##### Enter a number: 1234\n",
    "###### Sum of 1 + 2 + 3 + 4 is 10"
   ]
  },
  {
   "cell_type": "code",
   "execution_count": 26,
   "metadata": {},
   "outputs": [
    {
     "name": "stdout",
     "output_type": "stream",
     "text": [
      "Enter a number 15\n",
      "Sum of 1+5 is 6\n"
     ]
    }
   ],
   "source": [
    "try:\n",
    "    val = int(input(\"Enter a number \"))\n",
    "    val = str(val)\n",
    "    sum=0\n",
    "    strVal=\"\";\n",
    "    for x in val:\n",
    "        sum+=int(x)\n",
    "        strVal+=x+\"+\"\n",
    "    print(f\"Sum of {strVal[:-1]} is {sum}\")\n",
    "except ValueError:\n",
    "    print(\"only numeric value is allowed\")\n",
    "except:\n",
    "    print(\"something went worng in your program\")"
   ]
  },
  {
   "cell_type": "code",
   "execution_count": 27,
   "metadata": {},
   "outputs": [
    {
     "name": "stdout",
     "output_type": "stream",
     "text": [
      "Enter a number 1234\n",
      "Sum of 1+2+3+4 is 10\n"
     ]
    }
   ],
   "source": [
    "try:\n",
    "    val = int(input(\"Enter a number \"))\n",
    "    val = str(val)\n",
    "    sum=0\n",
    "    strVal=\"\";\n",
    "    for x in val:\n",
    "        sum+=int(x)\n",
    "        strVal+=x+\"+\"\n",
    "    print(f\"Sum of {strVal[:-1]} is {sum}\")\n",
    "except ValueError:\n",
    "    print(\"only numeric value is allowed\")\n",
    "except:\n",
    "    print(\"something went worng in your program\")"
   ]
  },
  {
   "cell_type": "code",
   "execution_count": null,
   "metadata": {},
   "outputs": [],
   "source": []
  }
 ],
 "metadata": {
  "kernelspec": {
   "display_name": "Python 3",
   "language": "python",
   "name": "python3"
  },
  "language_info": {
   "codemirror_mode": {
    "name": "ipython",
    "version": 3
   },
   "file_extension": ".py",
   "mimetype": "text/x-python",
   "name": "python",
   "nbconvert_exporter": "python",
   "pygments_lexer": "ipython3",
   "version": "3.7.3"
  }
 },
 "nbformat": 4,
 "nbformat_minor": 2
}
