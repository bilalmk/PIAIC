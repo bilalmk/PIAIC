{
 "cells": [
  {
   "cell_type": "markdown",
   "metadata": {},
   "source": [
    "# Functions    "
   ]
  },
  {
   "cell_type": "code",
   "execution_count": 2,
   "metadata": {},
   "outputs": [
    {
     "name": "stdout",
     "output_type": "stream",
     "text": [
      "3\n"
     ]
    }
   ],
   "source": [
    "def test(a,b):\n",
    "    print(a+b)\n",
    "test(1,2)"
   ]
  },
  {
   "cell_type": "code",
   "execution_count": 3,
   "metadata": {},
   "outputs": [
    {
     "name": "stdout",
     "output_type": "stream",
     "text": [
      "Enter First number : 1\n",
      "Enter Second Number : 1\n",
      "Enter Operator : 1\n",
      "Invalid Operator\n"
     ]
    }
   ],
   "source": [
    "def calculator(no1,no2,op):\n",
    "    if(op==\"*\"):\n",
    "        print(f\"{no1}*{no2}={no1*no2}\")\n",
    "    elif(op==\"+\"):\n",
    "        print(f\"{no1}+{no2}={no1+no2}\")\n",
    "    elif(op==\"-\"):\n",
    "        print(f\"{no1}-{no2}={no1-no2}\")        \n",
    "    elif(op==\"/\"):\n",
    "        print(f\"{no1}/{no2}={no1/no2}\")\n",
    "    else:\n",
    "        print(\"Invalid Operator\")\n",
    "\n",
    "no1 = int(input(\"Enter First number : \"))\n",
    "no2 = int(input(\"Enter Second Number : \"))\n",
    "op = input(\"Enter Operator : \")\n",
    "\n",
    "calculator(no1,no2,op)"
   ]
  },
  {
   "cell_type": "code",
   "execution_count": 9,
   "metadata": {},
   "outputs": [
    {
     "name": "stdout",
     "output_type": "stream",
     "text": [
      "a\n",
      "b\n",
      "c\n",
      "d\n"
     ]
    }
   ],
   "source": [
    "def list_fun(list1,list2=[]):\n",
    "    for l in list1:\n",
    "        list2.append(l)\n",
    "    for m in list2:\n",
    "        print(m)\n",
    "\n",
    "list1 = [\"a\",\"b\",\"c\",\"d\"]\n",
    "list_fun(list1)"
   ]
  },
  {
   "cell_type": "markdown",
   "metadata": {},
   "source": [
    "# non positional arguments or keyword arguments in functions"
   ]
  },
  {
   "cell_type": "code",
   "execution_count": 10,
   "metadata": {},
   "outputs": [
    {
     "name": "stdout",
     "output_type": "stream",
     "text": [
      "Bilal khan\n"
     ]
    }
   ],
   "source": [
    "def my_name(fname,lname):\n",
    "    print(fname+\" \"+lname)\n",
    "my_name(lname=\"khan\",fname=\"Bilal\")\n"
   ]
  },
  {
   "cell_type": "code",
   "execution_count": 11,
   "metadata": {},
   "outputs": [],
   "source": [
    "def make_juice(a,b,c):\n",
    "    print(a)\n",
    "    print(b)\n",
    "    print(c)\n",
    "\n"
   ]
  },
  {
   "cell_type": "code",
   "execution_count": 12,
   "metadata": {},
   "outputs": [
    {
     "name": "stdout",
     "output_type": "stream",
     "text": [
      "10\n",
      "20\n",
      "3434\n"
     ]
    }
   ],
   "source": [
    "make_juice(10,20,c=\"3434\")"
   ]
  },
  {
   "cell_type": "code",
   "execution_count": 13,
   "metadata": {},
   "outputs": [
    {
     "ename": "SyntaxError",
     "evalue": "positional argument follows keyword argument (<ipython-input-13-d82d52717324>, line 1)",
     "output_type": "error",
     "traceback": [
      "\u001b[1;36m  File \u001b[1;32m\"<ipython-input-13-d82d52717324>\"\u001b[1;36m, line \u001b[1;32m1\u001b[0m\n\u001b[1;33m    make_juice(c=\"1\",2,3)\u001b[0m\n\u001b[1;37m                    ^\u001b[0m\n\u001b[1;31mSyntaxError\u001b[0m\u001b[1;31m:\u001b[0m positional argument follows keyword argument\n"
     ]
    }
   ],
   "source": [
    "make_juice(c=\"1\",2,3)"
   ]
  },
  {
   "cell_type": "code",
   "execution_count": 14,
   "metadata": {},
   "outputs": [
    {
     "ename": "TypeError",
     "evalue": "make_juice() got multiple values for argument 'a'",
     "output_type": "error",
     "traceback": [
      "\u001b[1;31m---------------------------------------------------------------------------\u001b[0m",
      "\u001b[1;31mTypeError\u001b[0m                                 Traceback (most recent call last)",
      "\u001b[1;32m<ipython-input-14-d681990ef59f>\u001b[0m in \u001b[0;36m<module>\u001b[1;34m\u001b[0m\n\u001b[1;32m----> 1\u001b[1;33m \u001b[0mmake_juice\u001b[0m\u001b[1;33m(\u001b[0m\u001b[1;36m2\u001b[0m\u001b[1;33m,\u001b[0m\u001b[0ma\u001b[0m\u001b[1;33m=\u001b[0m\u001b[1;36m1\u001b[0m\u001b[1;33m,\u001b[0m\u001b[0mc\u001b[0m\u001b[1;33m=\u001b[0m\u001b[1;36m3\u001b[0m\u001b[1;33m)\u001b[0m\u001b[1;33m\u001b[0m\u001b[1;33m\u001b[0m\u001b[0m\n\u001b[0m",
      "\u001b[1;31mTypeError\u001b[0m: make_juice() got multiple values for argument 'a'"
     ]
    }
   ],
   "source": [
    "make_juice(2,a=1,c=3)"
   ]
  },
  {
   "cell_type": "code",
   "execution_count": 20,
   "metadata": {},
   "outputs": [
    {
     "name": "stdout",
     "output_type": "stream",
     "text": [
      "Enter Table Number = 11\n",
      "11 * 1 = 11\n",
      "11 * 2 = 22\n",
      "11 * 3 = 33\n",
      "11 * 4 = 44\n",
      "11 * 5 = 55\n",
      "11 * 6 = 66\n",
      "11 * 7 = 77\n",
      "11 * 8 = 88\n",
      "11 * 9 = 99\n",
      "11 * 10 = 110\n"
     ]
    }
   ],
   "source": [
    "def print_table(tableNumber=1):\n",
    "    for i in range(1,11):\n",
    "        print(f\"{tableNumber} * {i} = {tableNumber*(i)}\")\n",
    "        \n",
    "tableNumber = int(input(\"Enter Table Number = \"))\n",
    "    \n",
    "print_table(tableNumber)"
   ]
  },
  {
   "cell_type": "code",
   "execution_count": 24,
   "metadata": {},
   "outputs": [
    {
     "name": "stdout",
     "output_type": "stream",
     "text": [
      "['Bilal Khan', 'Jamal Khan', 'Saeed Khan', 'Asif Khan']\n"
     ]
    }
   ],
   "source": [
    "def name_append(nameList):\n",
    "    for index in range(len(nameList)):\n",
    "        nameList[index]=nameList[index]+\" Khan\"\n",
    "    return nameList\n",
    "\n",
    "nameList=[\"Bilal\",\"Jamal\",\"Saeed\",\"Asif\"]\n",
    "appendList = name_append(nameList);\n",
    "print(appendList)"
   ]
  },
  {
   "cell_type": "code",
   "execution_count": 26,
   "metadata": {},
   "outputs": [
    {
     "name": "stdout",
     "output_type": "stream",
     "text": [
      "['Bilal Khan', 'Jamal Khan', 'Saeed Khan', 'Asif Khan']\n"
     ]
    }
   ],
   "source": [
    "def name_append(nameList):\n",
    "    for name in nameList:\n",
    "        index = nameList.index(name)\n",
    "        nameList[index]=nameList[index]+\" Khan\"\n",
    "    return nameList\n",
    "\n",
    "nameList=[\"Bilal\",\"Jamal\",\"Saeed\",\"Asif\"]\n",
    "appendList = name_append(nameList);\n",
    "print(appendList)"
   ]
  },
  {
   "cell_type": "code",
   "execution_count": 3,
   "metadata": {},
   "outputs": [
    {
     "name": "stdout",
     "output_type": "stream",
     "text": [
      "6\n",
      "5\n"
     ]
    }
   ],
   "source": [
    "list1 = [1,2,3,4,5,6]\n",
    "print(len(list1))\n",
    "list1.pop(1);\n",
    "print(len(list1))"
   ]
  },
  {
   "cell_type": "code",
   "execution_count": null,
   "metadata": {},
   "outputs": [],
   "source": []
  }
 ],
 "metadata": {
  "kernelspec": {
   "display_name": "Python 3",
   "language": "python",
   "name": "python3"
  },
  "language_info": {
   "codemirror_mode": {
    "name": "ipython",
    "version": 3
   },
   "file_extension": ".py",
   "mimetype": "text/x-python",
   "name": "python",
   "nbconvert_exporter": "python",
   "pygments_lexer": "ipython3",
   "version": "3.7.3"
  }
 },
 "nbformat": 4,
 "nbformat_minor": 2
}
