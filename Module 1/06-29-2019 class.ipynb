{
 "cells": [
  {
   "cell_type": "markdown",
   "metadata": {},
   "source": [
    "# list of parameters"
   ]
  },
  {
   "cell_type": "markdown",
   "metadata": {},
   "source": [
    "# args,*kargs"
   ]
  },
  {
   "cell_type": "code",
   "execution_count": 1,
   "metadata": {},
   "outputs": [],
   "source": [
    "def cars(model,make,*specs):\n",
    "    print(model,make)\n",
    "    print(specs)\n"
   ]
  },
  {
   "cell_type": "code",
   "execution_count": 2,
   "metadata": {},
   "outputs": [
    {
     "name": "stdout",
     "output_type": "stream",
     "text": [
      "2010 toyota\n",
      "('alloyrim', 'tape', 'power windows')\n"
     ]
    }
   ],
   "source": [
    "cars(2010,'toyota','alloyrim','tape','power windows')"
   ]
  },
  {
   "cell_type": "code",
   "execution_count": 3,
   "metadata": {},
   "outputs": [
    {
     "name": "stdout",
     "output_type": "stream",
     "text": [
      "2010 toyota\n",
      "('automatic',)\n"
     ]
    }
   ],
   "source": [
    "cars(2010,'toyota','automatic')"
   ]
  },
  {
   "cell_type": "code",
   "execution_count": 4,
   "metadata": {},
   "outputs": [
    {
     "name": "stdout",
     "output_type": "stream",
     "text": [
      "2010 toyota\n",
      "(['alloyrim', 'tape', 'power windows'], [1, 2, 3])\n"
     ]
    }
   ],
   "source": [
    "cars(2010,'toyota',['alloyrim','tape','power windows'],[1,2,3])"
   ]
  },
  {
   "cell_type": "code",
   "execution_count": 5,
   "metadata": {},
   "outputs": [
    {
     "name": "stdout",
     "output_type": "stream",
     "text": [
      "You have order 13 inch westside garlic flavoured pizza with ('extra cheese', 'less spicey', 'onion rings') toping your total bill is 1000\n"
     ]
    }
   ],
   "source": [
    "def OrderPizza(name,size,price,*topings):\n",
    "    print(f\"You have order {size} inch {name} flavoured pizza with {topings} toping your total bill is {price}\");\n",
    "\n",
    "OrderPizza(\"westside garlic\",\"13\",\"1000\",'extra cheese','less spicey','onion rings')\n"
   ]
  },
  {
   "cell_type": "code",
   "execution_count": 6,
   "metadata": {},
   "outputs": [
    {
     "name": "stdout",
     "output_type": "stream",
     "text": [
      "1) Customer name is Bilal Muhammad Khan\n",
      "2) You have order 13 inch pizza\n",
      "3) Your flavoured is WESTSIDE GARLIC\n",
      "4) your pizza toping is :\n",
      "  1 - extra cheese\n",
      "  2 - less spicey\n",
      "  3 - onion rings\n"
     ]
    }
   ],
   "source": [
    "def OrderPizza(name,size,flavour,*topings):\n",
    "    print(\"1) Customer name is\",name)\n",
    "    print(\"2) You have order\",size,\"inch pizza\")\n",
    "    print(\"3) Your flavoured is\",flavour.upper())\n",
    "    print(\"4) your pizza toping is :\")\n",
    "    for toping in topings:\n",
    "        print(\" \",topings.index(toping)+1,\"-\",toping)\n",
    "    \n",
    "OrderPizza(\"Bilal Muhammad Khan\",\"13\",\"westside garlic\",'extra cheese','less spicey','onion rings')"
   ]
  },
  {
   "cell_type": "code",
   "execution_count": 7,
   "metadata": {},
   "outputs": [],
   "source": [
    "def Person(fname,lname,**about):\n",
    "    print(fname,lname)\n",
    "    print(about)"
   ]
  },
  {
   "cell_type": "code",
   "execution_count": 8,
   "metadata": {},
   "outputs": [
    {
     "name": "stdout",
     "output_type": "stream",
     "text": [
      "Bilal Khan\n",
      "{'age': 25, 'address': 'Karachi'}\n"
     ]
    }
   ],
   "source": [
    "Person('Bilal','Khan',age=25,address='Karachi')"
   ]
  },
  {
   "cell_type": "code",
   "execution_count": 9,
   "metadata": {},
   "outputs": [
    {
     "name": "stdout",
     "output_type": "stream",
     "text": [
      "Bilal Khan\n",
      "{'age': 25, 'address': 'Karachi', 'phone': [123, 345]}\n"
     ]
    }
   ],
   "source": [
    "Person('Bilal','Khan',age=25,address='Karachi',phone=[123,345])"
   ]
  },
  {
   "cell_type": "code",
   "execution_count": 10,
   "metadata": {},
   "outputs": [
    {
     "name": "stdout",
     "output_type": "stream",
     "text": [
      "Bilal Khan\n",
      "{'age': 25, 'address': 'Karachi', 'phone': {'zong': 1, 'warid': 2}}\n"
     ]
    }
   ],
   "source": [
    "Person('Bilal','Khan',age=25,address='Karachi',phone={'zong':1,'warid':2})"
   ]
  },
  {
   "cell_type": "markdown",
   "metadata": {},
   "source": [
    "# using function as a variable"
   ]
  },
  {
   "cell_type": "code",
   "execution_count": 11,
   "metadata": {},
   "outputs": [],
   "source": [
    "def add():\n",
    "    x=3+5;\n",
    "    return x"
   ]
  },
  {
   "cell_type": "code",
   "execution_count": 12,
   "metadata": {},
   "outputs": [],
   "source": [
    "def summ():\n",
    "    y=23+9\n",
    "    return y"
   ]
  },
  {
   "cell_type": "code",
   "execution_count": 13,
   "metadata": {},
   "outputs": [
    {
     "name": "stdout",
     "output_type": "stream",
     "text": [
      "40\n"
     ]
    }
   ],
   "source": [
    "def newValue():\n",
    "    answer = add()+summ()\n",
    "    print(answer)\n",
    "newValue()"
   ]
  },
  {
   "cell_type": "code",
   "execution_count": 14,
   "metadata": {},
   "outputs": [],
   "source": [
    "def commissionCalculator(sales):\n",
    "    if sales>=100000:\n",
    "        percentage = 30\n",
    "    elif sales>=50000:\n",
    "        percentage = 20\n",
    "    elif sales>=30000:\n",
    "        percentage = 10\n",
    "    elif sales>=10000:\n",
    "        percentage = 5\n",
    "    else:\n",
    "        percentage = 0\n",
    "    \n",
    "    commission = sales * (percentage/100)\n",
    "    \n",
    "    return round(commission)"
   ]
  },
  {
   "cell_type": "code",
   "execution_count": null,
   "metadata": {},
   "outputs": [],
   "source": []
  },
  {
   "cell_type": "code",
   "execution_count": 15,
   "metadata": {},
   "outputs": [],
   "source": [
    "def salary(basic,commission):\n",
    "    salary = basic+commission\n",
    "    print(f\"Your salary is:{salary}\")"
   ]
  },
  {
   "cell_type": "code",
   "execution_count": 16,
   "metadata": {},
   "outputs": [
    {
     "name": "stdout",
     "output_type": "stream",
     "text": [
      "Your salary is:55000\n"
     ]
    }
   ],
   "source": [
    "salary(25000,commissionCalculator(100000))"
   ]
  },
  {
   "cell_type": "code",
   "execution_count": 17,
   "metadata": {},
   "outputs": [
    {
     "name": "stdout",
     "output_type": "stream",
     "text": [
      "Enter basic salary : 1\n",
      "Enter total sale : 1\n",
      "Your salary is:1\n"
     ]
    }
   ],
   "source": [
    "basic = int(input(\"Enter basic salary : \"))\n",
    "sale = int(input(\"Enter total sale : \"))\n",
    "salary(basic,commissionCalculator(sale))"
   ]
  },
  {
   "cell_type": "code",
   "execution_count": 18,
   "metadata": {},
   "outputs": [
    {
     "name": "stdout",
     "output_type": "stream",
     "text": [
      "Apple\n",
      "100\n",
      "Orange\n"
     ]
    }
   ],
   "source": [
    "#global variable will be access everywhere but when change inside function then it will be consider as local veriable for this function\n",
    "fruit = \"Apple\"\n",
    "def alocal():\n",
    "    a= 100\n",
    "    print(a)\n",
    "    \n",
    "    fruit=\"Orange\"\n",
    "    print(fruit)\n",
    "print(fruit)\n",
    "alocal()"
   ]
  },
  {
   "cell_type": "code",
   "execution_count": 19,
   "metadata": {},
   "outputs": [
    {
     "name": "stdout",
     "output_type": "stream",
     "text": [
      "Apple\n",
      "100\n",
      "Orange\n",
      "100\n",
      "Apple\n"
     ]
    }
   ],
   "source": [
    "#access local veriable outside the function by making it global\n",
    "fruit = \"Apple\"\n",
    "def alocal():\n",
    "    global a\n",
    "    a= 100\n",
    "    print(a)\n",
    "    \n",
    "    fruit=\"Orange\"\n",
    "    print(fruit)\n",
    "print(fruit)\n",
    "alocal()\n",
    "print(a)\n",
    "print(fruit)"
   ]
  },
  {
   "cell_type": "code",
   "execution_count": 20,
   "metadata": {},
   "outputs": [
    {
     "name": "stdout",
     "output_type": "stream",
     "text": [
      "Apple\n",
      "100\n",
      "Orange\n",
      "100\n",
      "Orange\n"
     ]
    }
   ],
   "source": [
    "#change global variable value inside the function\n",
    "#following is the proper way to change the value, findout the proper way to change the value of global veriable\n",
    "fruit = \"Apple\"\n",
    "def alocal():\n",
    "    global a\n",
    "    global fruit\n",
    "    a= 100\n",
    "    print(a)\n",
    "    \n",
    "    fruit=\"Orange\"\n",
    "    print(fruit)\n",
    "print(fruit)\n",
    "alocal()\n",
    "print(a)\n",
    "print(fruit)"
   ]
  },
  {
   "cell_type": "markdown",
   "metadata": {},
   "source": [
    "# Do-While loops"
   ]
  },
  {
   "cell_type": "code",
   "execution_count": 21,
   "metadata": {},
   "outputs": [
    {
     "name": "stdout",
     "output_type": "stream",
     "text": [
      "0\n",
      "1\n",
      "2\n",
      "3\n",
      "4\n",
      "5\n",
      "6\n",
      "7\n",
      "8\n",
      "9\n"
     ]
    }
   ],
   "source": [
    "a=0\n",
    "while(a<10):\n",
    "    print(a)\n",
    "    a+=1"
   ]
  },
  {
   "cell_type": "code",
   "execution_count": 22,
   "metadata": {},
   "outputs": [
    {
     "name": "stdout",
     "output_type": "stream",
     "text": [
      "Enter Name or type 'exit' to quit : exit\n",
      "exit\n"
     ]
    }
   ],
   "source": [
    "flag = True\n",
    "while(flag):\n",
    "    name = input(\"Enter Name or type 'exit' to quit : \")\n",
    "    print(name)\n",
    "    if(name.lower()==\"exit\"):\n",
    "        flag=False"
   ]
  },
  {
   "cell_type": "code",
   "execution_count": 37,
   "metadata": {},
   "outputs": [
    {
     "name": "stdout",
     "output_type": "stream",
     "text": [
      "Enter your nameBilal Muhammad Khan\n",
      "Enter Pizza Flavourwestside garlic\n",
      "Enter Pizza Size13\n",
      "Select topings from the list and type exit to end ['Extra cheese', 'Extra Spicey', 'Less Spicey', 'Thin Crust']\n",
      "Extra cheese\n",
      "Extra Spicey\n",
      "Thin Crust\n",
      "exit\n",
      "1) Customer name is Bilal Muhammad Khan\n",
      "2) You have order 13 inch pizza\n",
      "3) Your flavoured is WESTSIDE GARLIC\n",
      "4) your pizza toping is :\n",
      "  1 - Extra cheese\n",
      "  2 - Extra Spicey\n",
      "  3 - Thin Crust\n"
     ]
    }
   ],
   "source": [
    "def OrderPizza1(name,size,flavour,*topings):\n",
    "    print(\"1) Customer name is\",name)\n",
    "    print(\"2) You have order\",size,\"inch pizza\")\n",
    "    print(\"3) Your flavoured is\",flavour.upper())\n",
    "    print(\"4) your pizza toping is :\")\n",
    "    \n",
    "    t=1\n",
    "    for toping in topings:\n",
    "        if(type(toping)==list):\n",
    "            for item in toping:\n",
    "                print(\" \",toping.index(item)+1,\"-\",item)\n",
    "        else:\n",
    "            print(\" \",topings.index(toping)+1,\"-\",toping)\n",
    "\n",
    "\n",
    "flag=True\n",
    "listToping = ['Extra cheese','Extra Spicey','Less Spicey','Thin Crust']\n",
    "customerName = input(\"Enter your name\")\n",
    "pizzaFlavour = input(\"Enter Pizza Flavour\")\n",
    "pizzaSize = input(\"Enter Pizza Size\")\n",
    "print(\"Select topings from the list and type exit to end\",listToping)\n",
    "topings = []\n",
    "while flag:\n",
    "        toping = input(\"\");\n",
    "        if(toping.lower()!=\"exit\"):\n",
    "            topings.append(toping)\n",
    "        else:\n",
    "            flag=False;\n",
    "\n",
    "OrderPizza1(customerName,pizzaSize,pizzaFlavour,topings)"
   ]
  },
  {
   "cell_type": "markdown",
   "metadata": {},
   "source": [
    "# Classes"
   ]
  },
  {
   "cell_type": "code",
   "execution_count": 24,
   "metadata": {},
   "outputs": [],
   "source": [
    "#__ double ender = dendar"
   ]
  },
  {
   "cell_type": "code",
   "execution_count": 25,
   "metadata": {},
   "outputs": [],
   "source": [
    "# constructor called initilaizer in python\n",
    "# __init__ use to initilize the class"
   ]
  },
  {
   "cell_type": "code",
   "execution_count": 26,
   "metadata": {},
   "outputs": [],
   "source": [
    "class Patient():\n",
    "    def __init__(self,pid,pname,disease,age,gender):\n",
    "        self.patientId=pid\n",
    "        self.patientName=pname\n",
    "        self.disease = disease\n",
    "        self.patientAge = age\n",
    "        self.patientGender = gender\n"
   ]
  },
  {
   "cell_type": "code",
   "execution_count": 27,
   "metadata": {},
   "outputs": [],
   "source": [
    "p1 = Patient(1,\"Bilal\",\"Unknows\",'35','Male')\n",
    "p2 = Patient(2,\"Simba\",\"Wounded\",40,'Male')"
   ]
  },
  {
   "cell_type": "code",
   "execution_count": 28,
   "metadata": {},
   "outputs": [
    {
     "name": "stdout",
     "output_type": "stream",
     "text": [
      "Bilal\n"
     ]
    }
   ],
   "source": [
    "print(p1.patientName)"
   ]
  },
  {
   "cell_type": "code",
   "execution_count": 29,
   "metadata": {},
   "outputs": [
    {
     "data": {
      "text/plain": [
       "40"
      ]
     },
     "execution_count": 29,
     "metadata": {},
     "output_type": "execute_result"
    }
   ],
   "source": [
    "p2.patientAge"
   ]
  },
  {
   "cell_type": "code",
   "execution_count": 30,
   "metadata": {},
   "outputs": [],
   "source": [
    "class Student():\n",
    "    def __init__(self,rollNumber,name,age,standard):\n",
    "        self.RollNumber = rollNumber\n",
    "        self.StudentName = name\n",
    "        self.StudentAge = age\n",
    "        self.Standard = standard"
   ]
  },
  {
   "cell_type": "code",
   "execution_count": 31,
   "metadata": {},
   "outputs": [],
   "source": [
    "s1 = Student(1,\"Bilal\",7,\"Pre Nursary\")\n",
    "s2 = Student(2,\"Jamal\",5,\"Nursary\")"
   ]
  },
  {
   "cell_type": "code",
   "execution_count": 32,
   "metadata": {},
   "outputs": [
    {
     "data": {
      "text/plain": [
       "'Bilal'"
      ]
     },
     "execution_count": 32,
     "metadata": {},
     "output_type": "execute_result"
    }
   ],
   "source": [
    "s1.StudentName"
   ]
  },
  {
   "cell_type": "markdown",
   "metadata": {},
   "source": [
    "s2.StudentName"
   ]
  },
  {
   "cell_type": "code",
   "execution_count": 33,
   "metadata": {},
   "outputs": [
    {
     "data": {
      "text/plain": [
       "'Jamal'"
      ]
     },
     "execution_count": 33,
     "metadata": {},
     "output_type": "execute_result"
    }
   ],
   "source": [
    "s2.StudentName"
   ]
  },
  {
   "cell_type": "code",
   "execution_count": null,
   "metadata": {},
   "outputs": [],
   "source": []
  }
 ],
 "metadata": {
  "kernelspec": {
   "display_name": "Python 3",
   "language": "python",
   "name": "python3"
  },
  "language_info": {
   "codemirror_mode": {
    "name": "ipython",
    "version": 3
   },
   "file_extension": ".py",
   "mimetype": "text/x-python",
   "name": "python",
   "nbconvert_exporter": "python",
   "pygments_lexer": "ipython3",
   "version": "3.7.3"
  }
 },
 "nbformat": 4,
 "nbformat_minor": 2
}
