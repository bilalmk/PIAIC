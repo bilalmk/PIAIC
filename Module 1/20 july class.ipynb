{
 "cells": [
  {
   "cell_type": "code",
   "execution_count": 1,
   "metadata": {},
   "outputs": [],
   "source": [
    "import csv\n"
   ]
  },
  {
   "cell_type": "code",
   "execution_count": 2,
   "metadata": {},
   "outputs": [
    {
     "name": "stdout",
     "output_type": "stream",
     "text": [
      "['Year', 'Event ', 'Winner']\n",
      "['1995', 'Best-Kept Lawn', 'None']\n",
      "['1999', 'Gobstones', 'Welch National']\n",
      "['2000', 'World Cup', 'Burkina Faso']\n",
      "['2003', 'Cricket World Cup', 'Australia']\n",
      "['2007', 'Cricket World Cup', 'India']\n"
     ]
    }
   ],
   "source": [
    "with open('Book1.csv') as f:\n",
    "    x = csv.reader(f)\n",
    "    for i in x:\n",
    "        print(i)"
   ]
  },
  {
   "cell_type": "code",
   "execution_count": 3,
   "metadata": {},
   "outputs": [],
   "source": [
    "with open('Book1.csv','a',newline=\"\") as f:\n",
    "    x = csv.writer(f,delimiter=\",\")\n",
    "    x.writerow([\"2003\",\"Cricket World Cup\",\"Australia\"])\n",
    "    x.writerow([\"2007\",\"Cricket Wordl Cup\",\"India\"])"
   ]
  },
  {
   "cell_type": "code",
   "execution_count": 4,
   "metadata": {},
   "outputs": [
    {
     "name": "stdout",
     "output_type": "stream",
     "text": [
      "['Year', 'Event ', 'Winner']\n",
      "['1995', 'Best-Kept Lawn', 'None']\n",
      "['1999', 'Gobstones', 'Welch National']\n",
      "['2000', 'World Cup', 'Burkina Faso']\n",
      "['2003', 'Cricket World Cup', 'Australia']\n",
      "['2007', 'Cricket World Cup', 'India']\n",
      "['2003', 'Cricket World Cup', 'Australia']\n",
      "['2007', 'Cricket Wordl Cup', 'India']\n"
     ]
    }
   ],
   "source": [
    "with open('Book1.csv') as f:\n",
    "    x = csv.reader(f)\n",
    "    for i in x:\n",
    "        print(i)"
   ]
  },
  {
   "cell_type": "code",
   "execution_count": 5,
   "metadata": {},
   "outputs": [
    {
     "name": "stdout",
     "output_type": "stream",
     "text": [
      "['Year', 'Event ', 'Winner', '1995', 'Best-Kept Lawn', 'None', '1999', 'Gobstones', 'Welch National', '2000', 'World Cup', 'Burkina Faso', '2003', 'Cricket World Cup', 'Australia', '2007', 'Cricket World Cup', 'India', '2003', 'Cricket World Cup', 'Australia', '2007', 'Cricket Wordl Cup', 'India']\n"
     ]
    }
   ],
   "source": [
    "with open('Book1.csv','r',newline=\"\") as f:\n",
    "    x = csv.reader(f)\n",
    "    data=[]\n",
    "    for i in x:\n",
    "        data+=i\n",
    "    print(data)"
   ]
  },
  {
   "cell_type": "code",
   "execution_count": 6,
   "metadata": {},
   "outputs": [],
   "source": [
    "with open('abc.csv','w',newline=\"\") as f:\n",
    "    x = csv.writer(f)\n",
    "    x.writerow(['Year','Event','Winner'])\n",
    "    x.writerow(['1996','World Cup','Sri Lanka'])\n",
    "    x.writerow(['1999','World Cup','Australia'])"
   ]
  },
  {
   "cell_type": "code",
   "execution_count": 7,
   "metadata": {},
   "outputs": [
    {
     "name": "stdout",
     "output_type": "stream",
     "text": [
      "['Year', 'Event', 'Winner']\n",
      "['1996', 'World Cup', 'Sri Lanka']\n",
      "['1999', 'World Cup', 'Australia']\n"
     ]
    }
   ],
   "source": [
    "with open('abc.csv') as f:\n",
    "    x = csv.reader(f)\n",
    "    for i in x:\n",
    "        print(i)\n",
    "    "
   ]
  },
  {
   "cell_type": "code",
   "execution_count": 8,
   "metadata": {},
   "outputs": [],
   "source": [
    "with open('abc.csv','a',newline=\"\") as f:\n",
    "    x = csv.writer(f)\n",
    "    x.writerow(['2003','World Cup','Australia'])\n",
    "    x.writerow(['2007','World Cup','Australia'])"
   ]
  },
  {
   "cell_type": "code",
   "execution_count": null,
   "metadata": {},
   "outputs": [
    {
     "name": "stdout",
     "output_type": "stream",
     "text": [
      "['Year', 'Event', 'Winner']\n",
      "['1996', 'World Cup', 'Sri Lanka']\n",
      "['1999', 'World Cup', 'Australia']\n",
      "['2003', 'World Cup', 'Australia']\n",
      "['2007', 'World Cup', 'Australia']\n"
     ]
    }
   ],
   "source": [
    "with open('abc.csv') as f:\n",
    "    x = csv.reader(f)\n",
    "    for i in x:\n",
    "        print(i)"
   ]
  },
  {
   "cell_type": "code",
   "execution_count": null,
   "metadata": {},
   "outputs": [],
   "source": [
    "with open('voterList.csv','w',newline=\"\") as f:\n",
    "    x = csv.writer(f)\n",
    "    x.writerow(['Name','CNIC'])\n",
    "    x.writerow(['Bilal','1'])\n",
    "    x.writerow(['Jamal','2'])\n",
    "    x.writerow(['Irfan','3'])\n",
    "    x.writerow(['Saeed','4'])\n",
    "    x.writerow(['Asif','5'])"
   ]
  },
  {
   "cell_type": "code",
   "execution_count": 1,
   "metadata": {},
   "outputs": [],
   "source": [
    "import csv"
   ]
  },
  {
   "cell_type": "code",
   "execution_count": null,
   "metadata": {},
   "outputs": [
    {
     "name": "stdout",
     "output_type": "stream",
     "text": [
      "Do you want to cast vote. press (Y/Q) : y\n",
      "Do you have CNIC. Press (Y/N) : y\n",
      "Please Enter your name : Sunny\n",
      "your name is not in list\n",
      "\n",
      "\n",
      "Do you want to cast vote. press (Y/Q) : y\n",
      "Do you have CNIC. Press (Y/N) : y\n",
      "Please Enter your name : Bilal\n",
      "You can cast your vote\n",
      "\n",
      "\n"
     ]
    }
   ],
   "source": [
    "while True:\n",
    "    isInList=False\n",
    "    voteOption = input(\"Do you want to cast vote. press (Y/Q) : \")\n",
    "    if(voteOption.lower()=='q'):\n",
    "        break;\n",
    "    elif(voteOption.lower()=='y'):\n",
    "        haveNic = input(\"Do you have CNIC. Press (Y/N) : \")\n",
    "        if(haveNic.lower()=='n'):\n",
    "            break\n",
    "        elif(haveNic.lower()=='y'):\n",
    "            name = input(\"Please Enter your name : \")\n",
    "            with open('voterList.csv') as f:\n",
    "                x = csv.reader(f)\n",
    "                for i in x:\n",
    "                    if(len([b for b in i if(b==name)])>0):\n",
    "                        isInList=True\n",
    "                        print('You can cast your vote\\n\\n')\n",
    "                        break\n",
    "                if(not isInList):\n",
    "                    print(\"your name is not in list\\n\\n\")    \n",
    "        else:\n",
    "            print(\"Enter only Y or N\")\n",
    "    else:\n",
    "        print(\"Please enter only Y or Q\")"
   ]
  },
  {
   "cell_type": "code",
   "execution_count": 1,
   "metadata": {},
   "outputs": [],
   "source": [
    "#JSON"
   ]
  },
  {
   "cell_type": "code",
   "execution_count": 2,
   "metadata": {},
   "outputs": [],
   "source": [
    "import json"
   ]
  },
  {
   "cell_type": "code",
   "execution_count": 3,
   "metadata": {},
   "outputs": [],
   "source": [
    "alpaList = ['a','b','c']\n",
    "with open('alphaList.json',\"w\") as f:\n",
    "    json.dump(alpaList,f)"
   ]
  },
  {
   "cell_type": "code",
   "execution_count": 4,
   "metadata": {},
   "outputs": [
    {
     "name": "stdout",
     "output_type": "stream",
     "text": [
      "['a', 'b', 'c']\n",
      "a\n",
      "b\n",
      "c\n"
     ]
    }
   ],
   "source": [
    "with open('alphaList.json',\"r\") as f:\n",
    "    x = json.load(f)\n",
    "    print(x)\n",
    "    for i in x:\n",
    "        print(i)"
   ]
  },
  {
   "cell_type": "code",
   "execution_count": null,
   "metadata": {},
   "outputs": [],
   "source": [
    "person = {\"Name\":\"Bilal\",\"Roll Number\":\"123\",'Campus':'Gulshan'}\n",
    "with open('jsonData.json','w') as f:\n",
    "    json.dump(person,f)"
   ]
  },
  {
   "cell_type": "code",
   "execution_count": 9,
   "metadata": {},
   "outputs": [
    {
     "name": "stdout",
     "output_type": "stream",
     "text": [
      "jamal : {'Name': 'jamal', 'Age': '23', 'Roll Number': '222', 'Campus': 'kaac'}\n",
      "bilal : {'Name': 'bilal', 'Age': '34', 'Roll Number': '343', 'Campus': 'kaka'}\n",
      "saeed : {'Name': 'saeed', 'Age': '34', 'Roll Number': '334', 'Campus': 'kakka'}\n"
     ]
    }
   ],
   "source": [
    "with open('jsonData.json') as f:\n",
    "    x = json.load(f)\n",
    "    for i,j in x.items():\n",
    "        print(i,\":\",j)"
   ]
  },
  {
   "cell_type": "code",
   "execution_count": 12,
   "metadata": {},
   "outputs": [
    {
     "name": "stdout",
     "output_type": "stream",
     "text": [
      "Enter (Q/Y) : y\n",
      "enter your name : irfan\n",
      "enter your age : 34\n",
      "enter your roll number : 334\n",
      "enter your campus : adf\n",
      "===============================\n",
      "Enter (Q/Y) : q\n"
     ]
    }
   ],
   "source": [
    "#personDic = {}\n",
    "while True:\n",
    "    cont = input(\"Enter (Q/Y) : \")\n",
    "    if(cont.lower()=='q'):\n",
    "        with open('jsonData.json','a') as f:\n",
    "            json.dump(personDic,f)\n",
    "            break\n",
    "    else:\n",
    "        name = input(\"enter your name : \")\n",
    "        age = input(\"enter your age : \")\n",
    "        rollNumber = input(\"enter your roll number : \")\n",
    "        campus = input(\"enter your campus : \")\n",
    "        person = {'Name':name,'Age':age,'Roll Number':rollNumber,'Campus':campus}\n",
    "        personDic[name]=person\n",
    "        #personDic.append(person)\n",
    "        print(\"===============================\")\n",
    "        #print(personDic)\n",
    "    "
   ]
  },
  {
   "cell_type": "code",
   "execution_count": null,
   "metadata": {},
   "outputs": [],
   "source": []
  },
  {
   "cell_type": "code",
   "execution_count": null,
   "metadata": {},
   "outputs": [],
   "source": []
  },
  {
   "cell_type": "code",
   "execution_count": null,
   "metadata": {},
   "outputs": [],
   "source": []
  },
  {
   "cell_type": "code",
   "execution_count": null,
   "metadata": {},
   "outputs": [],
   "source": []
  },
  {
   "cell_type": "code",
   "execution_count": null,
   "metadata": {},
   "outputs": [],
   "source": []
  },
  {
   "cell_type": "code",
   "execution_count": null,
   "metadata": {},
   "outputs": [],
   "source": []
  },
  {
   "cell_type": "code",
   "execution_count": null,
   "metadata": {},
   "outputs": [],
   "source": []
  }
 ],
 "metadata": {
  "kernelspec": {
   "display_name": "Python 3",
   "language": "python",
   "name": "python3"
  },
  "language_info": {
   "codemirror_mode": {
    "name": "ipython",
    "version": 3
   },
   "file_extension": ".py",
   "mimetype": "text/x-python",
   "name": "python",
   "nbconvert_exporter": "python",
   "pygments_lexer": "ipython3",
   "version": "3.7.3"
  }
 },
 "nbformat": 4,
 "nbformat_minor": 2
}
