{
 "cells": [
  {
   "cell_type": "code",
   "execution_count": 15,
   "metadata": {},
   "outputs": [],
   "source": []
  },
  {
   "cell_type": "code",
   "execution_count": null,
   "metadata": {},
   "outputs": [],
   "source": [
    "with open(\"student.json\",\"w\") as file:\n",
    "    file.write(\"{\\\"name\\\": \\\"Bilal Muhammad Khan\\\",\\\"fName\\\":\\\"Muhammad Attaullah Kha\\\",\\\"class\\\":\\\"1\\\",\\\"rollNumber\\\":\\\"001\\\",\\\"subject\\\":[\\\"math\\\",\\\"pak study\\\",\\\"urdu\\\",\\\"science\\\",\\\"english\\\"]},\\n\")\n",
    "    file.write(\"{\\\"name\\\": \\\"Bilal Muhammad Khan\\\",\\\"fName\\\":\\\"Muhammad Attaullah Kha\\\",\\\"class\\\":\\\"1\\\",\\\"rollNumber\\\":\\\"001\\\",\\\"subject\\\":[\\\"math\\\",\\\"pak study\\\",\\\"urdu\\\",\\\"science\\\",\\\"english\\\"]},\\n\")\n",
    "    file.write(\"{\\\"name\\\": \\\"Bilal Muhammad Khan\\\",\\\"fName\\\":\\\"Muhammad Attaullah Kha\\\",\\\"class\\\":\\\"1\\\",\\\"rollNumber\\\":\\\"001\\\",\\\"subject\\\":[\\\"math\\\",\\\"pak study\\\",\\\"urdu\\\",\\\"science\\\",\\\"english\\\"]},\\n\")\n",
    "    file.write(\"{\\\"name\\\": \\\"Bilal Muhammad Khan\\\",\\\"fName\\\":\\\"Muhammad Attaullah Kha\\\",\\\"class\\\":\\\"1\\\",\\\"rollNumber\\\":\\\"001\\\",\\\"subject\\\":[\\\"math\\\",\\\"pak study\\\",\\\"urdu\\\",\\\"science\\\",\\\"english\\\"]},\\n\")\n",
    "    file.write(\"{\\\"name\\\": \\\"Bilal Muhammad Khan\\\",\\\"fName\\\":\\\"Muhammad Attaullah Kha\\\",\\\"class\\\":\\\"1\\\",\\\"rollNumber\\\":\\\"001\\\",\\\"subject\\\":[\\\"math\\\",\\\"pak study\\\",\\\"urdu\\\",\\\"science\\\",\\\"english\\\"]}\\n\")\n",
    "    \n"
   ]
  }
 ],
 "metadata": {
  "kernelspec": {
   "display_name": "Python 3",
   "language": "python",
   "name": "python3"
  },
  "language_info": {
   "codemirror_mode": {
    "name": "ipython",
    "version": 3
   },
   "file_extension": ".py",
   "mimetype": "text/x-python",
   "name": "python",
   "nbconvert_exporter": "python",
   "pygments_lexer": "ipython3",
   "version": "3.7.3"
  }
 },
 "nbformat": 4,
 "nbformat_minor": 2
}
