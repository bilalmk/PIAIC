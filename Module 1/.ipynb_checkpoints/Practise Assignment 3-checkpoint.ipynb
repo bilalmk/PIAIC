{
 "cells": [
  {
   "cell_type": "markdown",
   "metadata": {},
   "source": [
    "# Q1:"
   ]
  },
  {
   "cell_type": "markdown",
   "metadata": {},
   "source": [
    "Think of at least three kinds of your favorite pizza. Store these pizza names in a list, and then use a for loop to print the name of each pizza."
   ]
  },
  {
   "cell_type": "code",
   "execution_count": 6,
   "metadata": {},
   "outputs": [
    {
     "name": "stdout",
     "output_type": "stream",
     "text": [
      "Enter Name of your favorite pizza or type 'exit' to quit : Westside garlic\n",
      "Enter Name of your favorite pizza or type 'exit' to quit : afghani feast\n",
      "Enter Name of your favorite pizza or type 'exit' to quit : chicken tikka\n",
      "Enter Name of your favorite pizza or type 'exit' to quit : exit\n",
      "==========================\n",
      "WESTSIDE GARLIC\n",
      "AFGHANI FEAST\n",
      "CHICKEN TIKKA\n"
     ]
    }
   ],
   "source": [
    "try:\n",
    "    pizzaName=[]\n",
    "    flag=True;\n",
    "    while(flag):\n",
    "        pizza = input(\"Enter Name of your favorite pizza or type 'exit' to quit : \")\n",
    "        if(pizza.strip()!=\"\" and pizza.lower()!='exit'):\n",
    "            pizzaName.append(pizza)\n",
    "        elif(pizza.lower()=='exit'):\n",
    "            flag=False\n",
    "     \n",
    "    print(\"==========================\")\n",
    "    for pizza in pizzaName:\n",
    "        print(pizza.upper())\n",
    "            \n",
    "except:\n",
    "    print(\"Something went wrong with code, please check\")"
   ]
  },
  {
   "cell_type": "markdown",
   "metadata": {},
   "source": [
    "# Q2"
   ]
  },
  {
   "cell_type": "markdown",
   "metadata": {},
   "source": [
    "Start with your last question , Modify your for loop to print a sentence using the name of the pizza\n",
    "instead of printing just the name of the pizza. For each pizza you should\n",
    "have one line of output containing a simple statement like I like pepperoni\n",
    "pizza."
   ]
  },
  {
   "cell_type": "code",
   "execution_count": 8,
   "metadata": {},
   "outputs": [
    {
     "name": "stdout",
     "output_type": "stream",
     "text": [
      "Enter Name of your favorite pizza or type 'exit' to quit : westside garlic\n",
      "Enter Name of your favorite pizza or type 'exit' to quit : afghani feast\n",
      "Enter Name of your favorite pizza or type 'exit' to quit : chicken tikka\n",
      "Enter Name of your favorite pizza or type 'exit' to quit : exit\n",
      "====================================\n",
      "I like 'WESTSIDE GARLIC' pizza\n",
      "I like 'AFGHANI FEAST' pizza\n",
      "I like 'CHICKEN TIKKA' pizza\n"
     ]
    }
   ],
   "source": [
    "try:\n",
    "    pizzaName=[]\n",
    "    flag=True;\n",
    "    while(flag):\n",
    "        pizza = input(\"Enter Name of your favorite pizza or type 'exit' to quit : \")\n",
    "        if(pizza.strip()!=\"\" and pizza.lower()!='exit'):\n",
    "            pizzaName.append(pizza)\n",
    "        elif(pizza.lower()=='exit'):\n",
    "            flag=False\n",
    "     \n",
    "    print(\"====================================\")\n",
    "    for pizza in pizzaName:\n",
    "        print(f\"I like '{pizza.upper()}' pizza\")\n",
    "            \n",
    "except:\n",
    "    print(\"Something went wrong with code, please check\")"
   ]
  },
  {
   "cell_type": "markdown",
   "metadata": {},
   "source": [
    "# Q3:"
   ]
  },
  {
   "cell_type": "markdown",
   "metadata": {},
   "source": [
    "Use a for loop to print the numbers from 1 to 20,\n",
    "inclusive."
   ]
  },
  {
   "cell_type": "code",
   "execution_count": 13,
   "metadata": {},
   "outputs": [
    {
     "name": "stdout",
     "output_type": "stream",
     "text": [
      "Enter limit for your loop : 20\n",
      "1\n",
      "2\n",
      "3\n",
      "4\n",
      "5\n",
      "6\n",
      "7\n",
      "8\n",
      "9\n",
      "10\n",
      "11\n",
      "12\n",
      "13\n",
      "14\n",
      "15\n",
      "16\n",
      "17\n",
      "18\n",
      "19\n",
      "20\n"
     ]
    }
   ],
   "source": [
    "try:\n",
    "    num = int(input(\"Enter limit for your loop : \"))\n",
    "    for i in range(1,num+1):\n",
    "        print(i)\n",
    "except ValueError:\n",
    "    print(\"Only numeric input is allowed as loop limit\")\n",
    "except:\n",
    "    print(\"Something went wrong with your code,please check\")"
   ]
  },
  {
   "cell_type": "markdown",
   "metadata": {},
   "source": [
    "# Q4:"
   ]
  },
  {
   "cell_type": "markdown",
   "metadata": {},
   "source": [
    "Use the third argument of the range() function to make a list\n",
    "of the odd numbers from 1 to 20. Use a for loop to print each number."
   ]
  },
  {
   "cell_type": "code",
   "execution_count": 14,
   "metadata": {},
   "outputs": [
    {
     "name": "stdout",
     "output_type": "stream",
     "text": [
      "Enter limit for your loop : 20\n",
      "1\n",
      "3\n",
      "5\n",
      "7\n",
      "9\n",
      "11\n",
      "13\n",
      "15\n",
      "17\n",
      "19\n"
     ]
    }
   ],
   "source": [
    "try:\n",
    "    num = int(input(\"Enter limit for your loop : \"))\n",
    "    for i in range(1,num+1,2):\n",
    "        print(i)\n",
    "except ValueError:\n",
    "    print(\"Only numeric input is allowed as loop limit\")\n",
    "except:\n",
    "    print(\"Something went wrong with your code,please check\")"
   ]
  },
  {
   "cell_type": "markdown",
   "metadata": {},
   "source": [
    "# Q5:"
   ]
  },
  {
   "cell_type": "markdown",
   "metadata": {},
   "source": [
    "Make a list of the multiples of 3 from 3 to 30. Use a for loop to\n",
    "print the numbers in your list."
   ]
  },
  {
   "cell_type": "code",
   "execution_count": 26,
   "metadata": {},
   "outputs": [
    {
     "name": "stdout",
     "output_type": "stream",
     "text": [
      "3\n",
      "6\n",
      "9\n",
      "12\n",
      "15\n",
      "18\n",
      "21\n",
      "24\n",
      "27\n",
      "30\n"
     ]
    }
   ],
   "source": [
    "numList = []\n",
    "\n",
    "try:\n",
    "    #for x in range(3,31,3):\n",
    "    #    numList.append(x)\n",
    "\n",
    "    for i in range(1,31):\n",
    "        if(i%3==0):\n",
    "            numList.append(i)\n",
    "\n",
    "    for num in numList:\n",
    "        print(num)\n",
    "except:\n",
    "    print(\"Something went wrong with your code, please check\")"
   ]
  },
  {
   "cell_type": "markdown",
   "metadata": {},
   "source": [
    "# Q6:"
   ]
  },
  {
   "cell_type": "markdown",
   "metadata": {},
   "source": [
    "A number raised to the third power is called a cube. For example,\n",
    "the cube of 2 is written as 2**3 in Python. Make a list of the first 10 cubes (that\n",
    "is, the cube of each integer from 1 through 10), and use a for loop to print out\n",
    "the value of each cube"
   ]
  },
  {
   "cell_type": "code",
   "execution_count": 27,
   "metadata": {},
   "outputs": [
    {
     "name": "stdout",
     "output_type": "stream",
     "text": [
      "1\n",
      "8\n",
      "27\n",
      "64\n",
      "125\n",
      "216\n",
      "343\n",
      "512\n",
      "729\n",
      "1000\n"
     ]
    }
   ],
   "source": [
    "try:\n",
    "    cubeList = []\n",
    "    for i in range(1,11):\n",
    "        cubeList.append(i**3)\n",
    "    \n",
    "    for cube in cubeList:\n",
    "        print(cube)\n",
    "except:\n",
    "    print(\"something went wrong with your code, please check\")"
   ]
  },
  {
   "cell_type": "markdown",
   "metadata": {},
   "source": [
    "# Q7:"
   ]
  },
  {
   "cell_type": "markdown",
   "metadata": {},
   "source": [
    "###### Make a python program that conatains your nine favourite dishes in a list called foods.\n",
    "\n",
    "###### Print the message, The first three items in the list are:. \n",
    "###### Then use a slice to print the first three items from that program’s list.\n",
    "\n",
    "###### Print the message, Three items from the middle of the list are:\n",
    "###### Use a slice to print three items from the middle of the list.\n",
    "\n",
    "###### Print the message, The last three items in the list are:\n",
    "###### Use a slice to print the last three items in the list."
   ]
  },
  {
   "cell_type": "code",
   "execution_count": 29,
   "metadata": {},
   "outputs": [
    {
     "name": "stdout",
     "output_type": "stream",
     "text": [
      "The first three items in the list are ['Pizza', 'Pasta', 'Burger']\n",
      "Three items from the middle of the list are ['Biryani', 'Pulao', 'Qorma']\n",
      "The last three items in the list are ['Nihari', 'Daal', 'Stake']\n"
     ]
    }
   ],
   "source": [
    "foods=['Pizza','Pasta','Burger','Biryani','Pulao','Qorma','Nihari','Daal','Stake']\n",
    "print(f\"The first three items in the list are {foods[0:3]}\")\n",
    "print(f\"Three items from the middle of the list are {foods[3:6]}\")\n",
    "print(f\"The last three items in the list are {foods[6:9]}\")"
   ]
  },
  {
   "cell_type": "markdown",
   "metadata": {},
   "source": [
    "# Q8:"
   ]
  },
  {
   "cell_type": "markdown",
   "metadata": {},
   "source": [
    "### Start with your program from your last Question8.\n",
    "###### Make a copy of the list of foods, and call it friend_foods.\n",
    "###### Then, do the following:\n",
    "######    Add a new dish to the original list.\n",
    "######    Add a different dish to the list friend_foodss.\n",
    "######    Prove that you have two separate lists. \n",
    "###### Print the message, My favorite pizzas are: and then use a for loop to print the first list. \n",
    "###### Print the message,\n",
    "###### My friend’s favorite foods are:, and then use a for loop to print the second list.\n",
    "    \n",
    "##### NOTE: Make sure each new dish is stored in the appropriate list."
   ]
  },
  {
   "cell_type": "code",
   "execution_count": 36,
   "metadata": {},
   "outputs": [
    {
     "name": "stdout",
     "output_type": "stream",
     "text": [
      "========================================\n",
      "My favorite foods are \n",
      "========================================\n",
      "Pizza\n",
      "Pasta\n",
      "Burger\n",
      "Biryani\n",
      "Pulao\n",
      "Qorma\n",
      "Nihari\n",
      "Daal\n",
      "Stake\n",
      "Daal Chawal\n",
      "\n",
      "========================================\n",
      "My friend's favorite food are\n",
      "========================================\n",
      "Pizza\n",
      "Pasta\n",
      "Burger\n",
      "Biryani\n",
      "Pulao\n",
      "Qorma\n",
      "Nihari\n",
      "Daal\n",
      "Stake\n",
      "Karahi Gosht\n"
     ]
    }
   ],
   "source": [
    "foods=['Pizza','Pasta','Burger','Biryani','Pulao','Qorma','Nihari','Daal','Stake']\n",
    "#friend_foods = foods.copy()\n",
    "#friend_foods = list(foods)\n",
    "#friend_foods = foods[:]\n",
    "\n",
    "friend_foods = foods.copy()\n",
    "\n",
    "foods.append(\"Daal Chawal\")\n",
    "friend_foods.append(\"Karahi Gosht\")\n",
    "print(\"========================================\")\n",
    "print(\"My favorite foods are \")\n",
    "print(\"========================================\")\n",
    "for food in foods:\n",
    "    print(food)\n",
    "\n",
    "print(\"\")\n",
    "print(\"========================================\")\n",
    "print(\"My friend's favorite food are\")\n",
    "print(\"========================================\")\n",
    "for friendFood in friend_foods:\n",
    "    print(friendFood)"
   ]
  },
  {
   "cell_type": "markdown",
   "metadata": {},
   "source": [
    "# Q9:"
   ]
  },
  {
   "cell_type": "markdown",
   "metadata": {},
   "source": [
    "Take a user input from console line.Store it in a variable called Alien_color.\n",
    "\n",
    "If the alien’s color is red, print a statement that the player just earned 5 points for shooting the alien.\n",
    "\n",
    "If the alien’s color isn’t green, print a statement that the player just earned 10 points.\n",
    "\n",
    "If the alien's color isn't red or green , print a statment :, Alien is no more....."
   ]
  },
  {
   "cell_type": "code",
   "execution_count": 45,
   "metadata": {},
   "outputs": [
    {
     "name": "stdout",
     "output_type": "stream",
     "text": [
      "Enter Alien Color : blue\n",
      "Alien is no more\n"
     ]
    }
   ],
   "source": [
    "Alien_color = input(\"Enter Alien Color : \").lower()\n",
    "if(Alien_color==\"red\"):\n",
    "    print(\"The player just earned 5 points for shooting the alien\")\n",
    "elif(Alien_color==\"green\"):\n",
    "    print(\"The player just earned 10 points\")\n",
    "elif(Alien_color!=\"red\" and Alien_color!=\"green\"):\n",
    "    print(\"Alien is no more\")"
   ]
  },
  {
   "cell_type": "markdown",
   "metadata": {},
   "source": [
    "# Q10:"
   ]
  },
  {
   "cell_type": "markdown",
   "metadata": {},
   "source": [
    "Write an if-elif-else chain that determines a person’s\n",
    "stage of life. Set a value for the variable age, and then:\n",
    "    \n",
    "•\t If the person is less than 2 years old, print a message that the person is a baby.\n",
    "\n",
    "•\t If the person is at least 2 years old but less than 4, print a message that the person is a toddler.\n",
    "\n",
    "•\t If the person is at least 4 years old but less than 13, print a message that the person is a kid.\n",
    "\n",
    "•\t If the person is at least 13 years old but less than 20, print a message that the person is a teenager.\n",
    "\n",
    "•\t If the person is at least 20 years old but less than 65, print a message that the person is an adult.\n",
    "\n",
    "•\t If the person is age 65 or older, print a message that the person is an elder."
   ]
  },
  {
   "cell_type": "code",
   "execution_count": null,
   "metadata": {},
   "outputs": [],
   "source": []
  },
  {
   "cell_type": "code",
   "execution_count": null,
   "metadata": {},
   "outputs": [],
   "source": []
  },
  {
   "cell_type": "code",
   "execution_count": null,
   "metadata": {},
   "outputs": [],
   "source": []
  },
  {
   "cell_type": "code",
   "execution_count": null,
   "metadata": {},
   "outputs": [],
   "source": []
  },
  {
   "cell_type": "code",
   "execution_count": null,
   "metadata": {},
   "outputs": [],
   "source": []
  },
  {
   "cell_type": "code",
   "execution_count": null,
   "metadata": {},
   "outputs": [],
   "source": []
  },
  {
   "cell_type": "markdown",
   "metadata": {},
   "source": [
    "# Q11:"
   ]
  },
  {
   "cell_type": "markdown",
   "metadata": {},
   "source": [
    "Do the following to create a program that simulates how websites ensure that everyone has a unique username.\n",
    "\n",
    "•\t Make a list of five or more usernames called current_users.\n",
    "\n",
    "•\t Make another list of five usernames called new_users. \n",
    "Make sure one or two of the new usernames are also in the current_users list.\n",
    "\n",
    "•\t Loop through the new_users list to see if each new username has already been used. \n",
    "If it has, print a message that the person will need to enter a new username. \n",
    "If a username has not been used, print a message saying that the username is available.\n",
    "\n",
    "•\t Make sure your comparison is case insensitive. If 'John' has been used, 'JOHN' should not be accepted."
   ]
  },
  {
   "cell_type": "code",
   "execution_count": null,
   "metadata": {},
   "outputs": [],
   "source": []
  },
  {
   "cell_type": "code",
   "execution_count": null,
   "metadata": {},
   "outputs": [],
   "source": []
  },
  {
   "cell_type": "code",
   "execution_count": null,
   "metadata": {},
   "outputs": [],
   "source": []
  },
  {
   "cell_type": "code",
   "execution_count": null,
   "metadata": {},
   "outputs": [],
   "source": []
  },
  {
   "cell_type": "markdown",
   "metadata": {},
   "source": [
    "# Q12:"
   ]
  },
  {
   "cell_type": "markdown",
   "metadata": {},
   "source": [
    "Use a dictionary to store information about a person you know.\n",
    "Store their first name, last name, age, and the city in which they live. \n",
    "You should have keys such as first_name, last_name, age, and city. \n",
    "Print each piece of information stored in your dictionary"
   ]
  },
  {
   "cell_type": "code",
   "execution_count": null,
   "metadata": {},
   "outputs": [],
   "source": []
  },
  {
   "cell_type": "code",
   "execution_count": null,
   "metadata": {},
   "outputs": [],
   "source": []
  },
  {
   "cell_type": "code",
   "execution_count": null,
   "metadata": {},
   "outputs": [],
   "source": []
  },
  {
   "cell_type": "code",
   "execution_count": null,
   "metadata": {},
   "outputs": [],
   "source": []
  },
  {
   "cell_type": "markdown",
   "metadata": {},
   "source": [
    "# Q13:"
   ]
  },
  {
   "cell_type": "markdown",
   "metadata": {},
   "source": [
    "Starts with your last question 12 , loop through the dictionary’s keys and values.\n",
    "When you’re sure that your loop works, add five more Python terms to your\n",
    "dictionary . When you run your program again, these new words and meanings\n",
    "should automatically be included in the output."
   ]
  },
  {
   "cell_type": "code",
   "execution_count": null,
   "metadata": {},
   "outputs": [],
   "source": []
  },
  {
   "cell_type": "code",
   "execution_count": null,
   "metadata": {},
   "outputs": [],
   "source": []
  },
  {
   "cell_type": "code",
   "execution_count": null,
   "metadata": {},
   "outputs": [],
   "source": []
  },
  {
   "cell_type": "code",
   "execution_count": null,
   "metadata": {},
   "outputs": [],
   "source": []
  },
  {
   "cell_type": "code",
   "execution_count": null,
   "metadata": {},
   "outputs": [],
   "source": []
  },
  {
   "cell_type": "markdown",
   "metadata": {},
   "source": [
    "# Q14:"
   ]
  },
  {
   "cell_type": "markdown",
   "metadata": {},
   "source": [
    "Make a dictionary containing three major rivers and the country\n",
    "each river runs through. One key-value pair might be 'nile': 'egypt'.\n",
    "    \n",
    "    \n",
    "•\t Use a loop to print a sentence about each river, such as The Nile runs\n",
    "through Egypt.\n",
    "\n",
    "NOTE: use upper case through keys and values."
   ]
  },
  {
   "cell_type": "code",
   "execution_count": null,
   "metadata": {},
   "outputs": [],
   "source": []
  },
  {
   "cell_type": "code",
   "execution_count": null,
   "metadata": {},
   "outputs": [],
   "source": []
  },
  {
   "cell_type": "code",
   "execution_count": null,
   "metadata": {},
   "outputs": [],
   "source": []
  },
  {
   "cell_type": "markdown",
   "metadata": {},
   "source": [
    "# Q15:"
   ]
  },
  {
   "cell_type": "markdown",
   "metadata": {},
   "source": [
    "Make several dictionaries, where the name of each dictionary is the\n",
    "name of a pet. In each dictionary, include the kind of animal and the owner’s\n",
    "name. Store these dictionaries in a list called pets. Next, loop through your list\n",
    "and as you do print everything you know about each pet."
   ]
  },
  {
   "cell_type": "code",
   "execution_count": null,
   "metadata": {},
   "outputs": [],
   "source": []
  }
 ],
 "metadata": {
  "kernelspec": {
   "display_name": "Python 3",
   "language": "python",
   "name": "python3"
  },
  "language_info": {
   "codemirror_mode": {
    "name": "ipython",
    "version": 3
   },
   "file_extension": ".py",
   "mimetype": "text/x-python",
   "name": "python",
   "nbconvert_exporter": "python",
   "pygments_lexer": "ipython3",
   "version": "3.7.3"
  }
 },
 "nbformat": 4,
 "nbformat_minor": 2
}
