{
 "cells": [
  {
   "cell_type": "code",
   "execution_count": 2,
   "metadata": {},
   "outputs": [
    {
     "name": "stdout",
     "output_type": "stream",
     "text": [
      "Enter Y/N y\n",
      "Enter your Name bbilal\n",
      "Enter your age 23\n",
      "Do you have NIC (Y/N) y\n",
      "bbilal, can cast vote\n",
      "Enter Y/N n\n"
     ]
    }
   ],
   "source": [
    "flag=True\n",
    "with open(\"vote.txt\",\"w\") as f:\n",
    "    while(flag):\n",
    "        castVote = input(\"Enter Y/N \")\n",
    "        if(castVote.upper()==\"Y\"):\n",
    "            name = input(\"Enter your Name \")\n",
    "            age = int(input(\"Enter your age \"))\n",
    "            cnic = input(\"Do you have NIC (Y/N) \")\n",
    "            if(age>=18 and cnic.upper()=='Y'):\n",
    "                print(f\"{name}, can cast vote\")\n",
    "                f.write(\"{name},can cast vote\")\n",
    "            else:\n",
    "                print(f\"{name}, is not allowed to cast his votes\")\n",
    "        else:\n",
    "            flag=False"
   ]
  },
  {
   "cell_type": "code",
   "execution_count": null,
   "metadata": {},
   "outputs": [],
   "source": []
  }
 ],
 "metadata": {
  "kernelspec": {
   "display_name": "Python 3",
   "language": "python",
   "name": "python3"
  },
  "language_info": {
   "codemirror_mode": {
    "name": "ipython",
    "version": 3
   },
   "file_extension": ".py",
   "mimetype": "text/x-python",
   "name": "python",
   "nbconvert_exporter": "python",
   "pygments_lexer": "ipython3",
   "version": "3.7.3"
  }
 },
 "nbformat": 4,
 "nbformat_minor": 2
}
