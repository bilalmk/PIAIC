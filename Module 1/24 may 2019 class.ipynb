{
 "cells": [
  {
   "cell_type": "code",
   "execution_count": 4,
   "metadata": {},
   "outputs": [
    {
     "name": "stdout",
     "output_type": "stream",
     "text": [
      "Enter your marks = 78\n",
      "Your result is = B\n"
     ]
    },
    {
     "data": {
      "text/plain": [
       "'gjhggkhgj'"
      ]
     },
     "execution_count": 4,
     "metadata": {},
     "output_type": "execute_result"
    }
   ],
   "source": [
    "marks = int(input(\"Enter your marks = \"))\n",
    "grade = \"\"\n",
    "if(marks>=90):\n",
    "    grade=\"A*\"\n",
    "elif(marks>=80):\n",
    "    grade=\"A\"\n",
    "elif(marks>=70):\n",
    "    grade=\"B\"\n",
    "elif(marks>=60):\n",
    "    grade=\"C\"\n",
    "elif(marks>=50):\n",
    "    grade=\"D\"\n",
    "else:\n",
    "    grade=\"Failed\"\n",
    "    \n",
    "print(\"Your result is = \"+grade)\n",
    "    \n",
    "    \n",
    "\n"
   ]
  },
  {
   "cell_type": "code",
   "execution_count": 36,
   "metadata": {},
   "outputs": [
    {
     "name": "stdout",
     "output_type": "stream",
     "text": [
      "7\n",
      "6\n",
      "saeed\n",
      "sunny\n",
      "7\n",
      "6\n",
      "7\n",
      "sunny\n",
      "imran\n",
      "Khurrum\n",
      "junaid\n",
      "jamal\n",
      "irfan\n",
      "saeed\n"
     ]
    },
    {
     "ename": "TypeError",
     "evalue": "'list' object is not callable",
     "output_type": "error",
     "traceback": [
      "\u001b[1;31m---------------------------------------------------------------------------\u001b[0m",
      "\u001b[1;31mTypeError\u001b[0m                                 Traceback (most recent call last)",
      "\u001b[1;32m<ipython-input-36-08a8b81266fa>\u001b[0m in \u001b[0;36m<module>\u001b[1;34m\u001b[0m\n\u001b[0;32m     14\u001b[0m \u001b[1;32mfor\u001b[0m \u001b[0mi\u001b[0m \u001b[1;32min\u001b[0m \u001b[0mnameList\u001b[0m\u001b[1;33m:\u001b[0m\u001b[1;33m\u001b[0m\u001b[1;33m\u001b[0m\u001b[0m\n\u001b[0;32m     15\u001b[0m     \u001b[0mprint\u001b[0m\u001b[1;33m(\u001b[0m\u001b[0mi\u001b[0m\u001b[1;33m)\u001b[0m\u001b[1;33m\u001b[0m\u001b[1;33m\u001b[0m\u001b[0m\n\u001b[1;32m---> 16\u001b[1;33m \u001b[1;32mfor\u001b[0m \u001b[0mi\u001b[0m \u001b[1;32min\u001b[0m \u001b[0mnameList\u001b[0m\u001b[1;33m(\u001b[0m\u001b[1;36m0\u001b[0m\u001b[1;33m,\u001b[0m\u001b[0mlen\u001b[0m\u001b[1;33m(\u001b[0m\u001b[0mnameList\u001b[0m\u001b[1;33m)\u001b[0m\u001b[1;33m-\u001b[0m\u001b[1;36m1\u001b[0m\u001b[1;33m)\u001b[0m\u001b[1;33m:\u001b[0m\u001b[1;33m\u001b[0m\u001b[1;33m\u001b[0m\u001b[0m\n\u001b[0m\u001b[0;32m     17\u001b[0m     \u001b[0mprint\u001b[0m\u001b[1;33m(\u001b[0m\u001b[0mnameList\u001b[0m\u001b[1;33m[\u001b[0m\u001b[0mi\u001b[0m\u001b[1;33m]\u001b[0m\u001b[1;33m)\u001b[0m\u001b[1;33m\u001b[0m\u001b[1;33m\u001b[0m\u001b[0m\n",
      "\u001b[1;31mTypeError\u001b[0m: 'list' object is not callable"
     ]
    }
   ],
   "source": [
    "nameList = [\"asad\",\"imran\",\"bilal\",\"junaid\",\"jamal\",\"irfan\",\"saeed\"] #list can have multiple datatype in contrst array have single data type\n",
    "print(len(nameList))\n",
    "nameList[0]=\"sunny\"\n",
    "del nameList[2]\n",
    "print(len(nameList))\n",
    "print(nameList[len(nameList)-1])\n",
    "print(nameList[0])\n",
    "nameList.append(\"furqan\")\n",
    "print(len(nameList))\n",
    "nameList.remove(\"furqan\")\n",
    "print(len(nameList))\n",
    "nameList.insert(2,\"Khurrum\")\n",
    "print(len(nameList))\n",
    "for i in nameList:\n",
    "    print(i)\n",
    "for i in nameList(0,len(nameList)-1):\n",
    "    print(nameList[i])"
   ]
  },
  {
   "cell_type": "code",
   "execution_count": null,
   "metadata": {},
   "outputs": [],
   "source": []
  }
 ],
 "metadata": {
  "kernelspec": {
   "display_name": "Python 3",
   "language": "python",
   "name": "python3"
  },
  "language_info": {
   "codemirror_mode": {
    "name": "ipython",
    "version": 3
   },
   "file_extension": ".py",
   "mimetype": "text/x-python",
   "name": "python",
   "nbconvert_exporter": "python",
   "pygments_lexer": "ipython3",
   "version": "3.7.3"
  }
 },
 "nbformat": 4,
 "nbformat_minor": 2
}
