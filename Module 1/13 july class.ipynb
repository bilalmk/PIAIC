{
 "cells": [
  {
   "cell_type": "code",
   "execution_count": 10,
   "metadata": {},
   "outputs": [],
   "source": [
    "class Car():\n",
    "    def __init__(self, make, model, year):\n",
    "        self.make = make\n",
    "        self.model = model\n",
    "        self.year = year\n",
    "        self.odometer_reading = 0\n",
    "        \n",
    "    def get_descriptive_name(self):\n",
    "        \n",
    "        long_name = str(self.year) + ' ' + self.make + ' '+ self.model\n",
    "        return long_name.title()\n",
    "    \n",
    "    def read_odometer(self):\n",
    "        print(f\"the car has travelled {self.odometer_reading} miles\")\n",
    "    \n",
    "    def update_odometer(self, mileage):\n",
    "        self.odometer_reading = mileage\n",
    "        \n",
    "    def increase_odometer(self, mileage):\n",
    "        if mileage >0:\n",
    "            self.odometer_reading +=mileage\n",
    "        else:\n",
    "            print(\"you can not rol back odometer\")\n",
    "    \n",
    "    def getFuelTankSize(self):\n",
    "        print(\"100Liters\")"
   ]
  },
  {
   "cell_type": "code",
   "execution_count": 29,
   "metadata": {},
   "outputs": [],
   "source": [
    "class Battery():\n",
    "    def __init__(self,manufacturer,size,amp):\n",
    "        self.manufacturer = manufacturer\n",
    "        self.size = size\n",
    "        self.amp = amp\n",
    "    \n",
    "    def getBatterySize(self):\n",
    "        print(f\"The battery size of electric is {self.size}\")\n",
    "        \n",
    "    def setBatterySize(self,newSize):\n",
    "        self.size = newSize\n",
    "    "
   ]
  },
  {
   "cell_type": "code",
   "execution_count": 30,
   "metadata": {},
   "outputs": [],
   "source": [
    "class Engine():\n",
    "    def __init__(self,engineType,oilCapacity):\n",
    "        self.type = engineType\n",
    "        self.oilCapacity = oilCapacity\n",
    "    \n",
    "    def getEngineType(self):\n",
    "        print(f\"Car engine is {self.type}\")\n",
    "    def setEngineType(self,engineType):\n",
    "        self.type = engineType\n",
    "        \n",
    "        "
   ]
  },
  {
   "cell_type": "code",
   "execution_count": 31,
   "metadata": {},
   "outputs": [],
   "source": [
    "class ElectricCar(Car):\n",
    "    def __init__(self,make,model,year):\n",
    "        super().__init__(make,model,year)\n",
    "        self.battery = Battery(\"AGS\",100,200)\n",
    "        self.engine = Engine(\"4 Cylander\",\"3 Liter\")\n",
    "    \n",
    "    \n",
    "        \n",
    "        "
   ]
  },
  {
   "cell_type": "code",
   "execution_count": 32,
   "metadata": {},
   "outputs": [],
   "source": [
    "eCar = ElectricCar(\"er\",\"rtr\",45)"
   ]
  },
  {
   "cell_type": "code",
   "execution_count": 33,
   "metadata": {},
   "outputs": [
    {
     "name": "stdout",
     "output_type": "stream",
     "text": [
      "The battery size of electric is 100\n"
     ]
    }
   ],
   "source": [
    "eCar.battery.getBatterySize()"
   ]
  },
  {
   "cell_type": "code",
   "execution_count": 34,
   "metadata": {},
   "outputs": [],
   "source": [
    "eCar.battery.setBatterySize(200)"
   ]
  },
  {
   "cell_type": "code",
   "execution_count": 35,
   "metadata": {},
   "outputs": [
    {
     "name": "stdout",
     "output_type": "stream",
     "text": [
      "The battery size of electric is 200\n"
     ]
    }
   ],
   "source": [
    "eCar.battery.getBatterySize()\n"
   ]
  },
  {
   "cell_type": "code",
   "execution_count": 37,
   "metadata": {},
   "outputs": [
    {
     "name": "stdout",
     "output_type": "stream",
     "text": [
      "Car engine is 4 Cylander\n"
     ]
    }
   ],
   "source": [
    "eCar.engine.getEngineType()"
   ]
  },
  {
   "cell_type": "code",
   "execution_count": 38,
   "metadata": {},
   "outputs": [],
   "source": [
    "eCar.engine.setEngineType(\"4 Stroke\")"
   ]
  },
  {
   "cell_type": "code",
   "execution_count": 39,
   "metadata": {},
   "outputs": [
    {
     "name": "stdout",
     "output_type": "stream",
     "text": [
      "Car engine is 4 Stroke\n"
     ]
    }
   ],
   "source": [
    "eCar.engine.getEngineType()"
   ]
  },
  {
   "cell_type": "markdown",
   "metadata": {},
   "source": [
    "# Data Files"
   ]
  },
  {
   "cell_type": "code",
   "execution_count": 56,
   "metadata": {},
   "outputs": [],
   "source": [
    "with open(\"python.txt\",\"w\") as file: #write will open if exist or create if not exist,write will over write content of file\n",
    "    file.write(\"Hello Python world\")\n",
    "    file.close() # no need to call close function when file open \"with open\" keyword, file will close itself as funtion scope will end"
   ]
  },
  {
   "cell_type": "code",
   "execution_count": 45,
   "metadata": {},
   "outputs": [],
   "source": [
    "with open(\"python.txt\",\"w\") as file:\n",
    "    file.write(\"Over write the content of open file\")"
   ]
  },
  {
   "cell_type": "code",
   "execution_count": 47,
   "metadata": {},
   "outputs": [
    {
     "name": "stdout",
     "output_type": "stream",
     "text": [
      "Over write the content of open file\n"
     ]
    }
   ],
   "source": [
    "with open(\"python.txt\",\"r\") as file:\n",
    "    content = file.read()\n",
    "    print(content)\n",
    "    "
   ]
  },
  {
   "cell_type": "code",
   "execution_count": 59,
   "metadata": {},
   "outputs": [
    {
     "name": "stdout",
     "output_type": "stream",
     "text": [
      "Hello Python worldappend the content of open file\n"
     ]
    }
   ],
   "source": [
    "with open(\"python.txt\") as file:\n",
    "    content = file.read()\n",
    "    print(content)"
   ]
  },
  {
   "cell_type": "code",
   "execution_count": 55,
   "metadata": {},
   "outputs": [
    {
     "data": {
      "text/plain": [
       "'Over write the content of open file'"
      ]
     },
     "execution_count": 55,
     "metadata": {},
     "output_type": "execute_result"
    }
   ],
   "source": [
    "content"
   ]
  },
  {
   "cell_type": "code",
   "execution_count": 62,
   "metadata": {},
   "outputs": [],
   "source": [
    "with open(\"python.txt\",\"a\") as file:\n",
    "    file.write(\"\\nappend the content of open file\")"
   ]
  },
  {
   "cell_type": "code",
   "execution_count": 63,
   "metadata": {},
   "outputs": [
    {
     "name": "stdout",
     "output_type": "stream",
     "text": [
      "Hello Python world\n",
      "append the content of open file\n",
      "append the content of open file\n"
     ]
    }
   ],
   "source": [
    "with open(\"python.txt\") as file:\n",
    "    content = file.read()\n",
    "    print(content)"
   ]
  },
  {
   "cell_type": "code",
   "execution_count": 66,
   "metadata": {},
   "outputs": [
    {
     "name": "stdout",
     "output_type": "stream",
     "text": [
      "Enter Name : Bial\n",
      "Enter Age : 22\n",
      "Enter CNIC : 223\n",
      "Enter Name : jamal\n",
      "Enter Age : 33\n",
      "Enter CNIC : 3434234\n",
      "Enter Name : kamal\n",
      "Enter Age : 11\n",
      "Enter CNIC : 234234\n",
      "Enter Name : saeed\n",
      "Enter Age : 45\n",
      "Enter CNIC : 33534254325\n",
      "Enter Name : irfan\n",
      "Enter Age : 44\n",
      "Enter CNIC : 23234\n",
      "=============================================\n"
     ]
    },
    {
     "ename": "FileNotFoundError",
     "evalue": "[Errno 2] No such file or directory: 'user_input'",
     "output_type": "error",
     "traceback": [
      "\u001b[1;31m---------------------------------------------------------------------------\u001b[0m",
      "\u001b[1;31mFileNotFoundError\u001b[0m                         Traceback (most recent call last)",
      "\u001b[1;32m<ipython-input-66-507eab821df6>\u001b[0m in \u001b[0;36m<module>\u001b[1;34m\u001b[0m\n\u001b[0;32m     10\u001b[0m \u001b[1;33m\u001b[0m\u001b[0m\n\u001b[0;32m     11\u001b[0m \u001b[0mprint\u001b[0m\u001b[1;33m(\u001b[0m\u001b[1;34m\"=============================================\"\u001b[0m\u001b[1;33m)\u001b[0m\u001b[1;33m\u001b[0m\u001b[1;33m\u001b[0m\u001b[0m\n\u001b[1;32m---> 12\u001b[1;33m \u001b[1;32mwith\u001b[0m \u001b[0mopen\u001b[0m\u001b[1;33m(\u001b[0m\u001b[1;34m\"user_input\"\u001b[0m\u001b[1;33m)\u001b[0m \u001b[1;32mas\u001b[0m \u001b[0mfile\u001b[0m\u001b[1;33m:\u001b[0m\u001b[1;33m\u001b[0m\u001b[1;33m\u001b[0m\u001b[0m\n\u001b[0m\u001b[0;32m     13\u001b[0m     \u001b[0mprint\u001b[0m\u001b[1;33m(\u001b[0m\u001b[0mfile\u001b[0m\u001b[1;33m.\u001b[0m\u001b[0mread\u001b[0m\u001b[1;33m(\u001b[0m\u001b[1;33m)\u001b[0m\u001b[1;33m)\u001b[0m\u001b[1;33m\u001b[0m\u001b[1;33m\u001b[0m\u001b[0m\n",
      "\u001b[1;31mFileNotFoundError\u001b[0m: [Errno 2] No such file or directory: 'user_input'"
     ]
    }
   ],
   "source": [
    "with open(\"user_input.txt\",\"w\") as file:\n",
    "    file.write(\"name  age  cnic\")\n",
    "    \n",
    "with open(\"user_input.txt\",\"a\") as file:\n",
    "    for i in range(5):\n",
    "        name = input(\"Enter Name : \")\n",
    "        age = input(\"Enter Age : \")\n",
    "        cnic = input(\"Enter CNIC : \")\n",
    "        file.write(f\"\\n{name}  {age}  {cnic}\")\n",
    "\n",
    "print(\"=============================================\")\n",
    "with open(\"user_input.txt\") as file:\n",
    "    print(file.read())"
   ]
  },
  {
   "cell_type": "code",
   "execution_count": 67,
   "metadata": {},
   "outputs": [
    {
     "name": "stdout",
     "output_type": "stream",
     "text": [
      "=============================================\n",
      "name  age  cnic\n",
      "Bial  22  223\n",
      "jamal  33  3434234\n",
      "kamal  11  234234\n",
      "saeed  45  33534254325\n",
      "irfan  44  23234\n"
     ]
    }
   ],
   "source": [
    "print(\"=============================================\")\n",
    "with open(\"user_input.txt\") as file:\n",
    "    print(file.read())"
   ]
  },
  {
   "cell_type": "code",
   "execution_count": 68,
   "metadata": {},
   "outputs": [
    {
     "name": "stdout",
     "output_type": "stream",
     "text": [
      "=============================================\n",
      "name  age  cnic\n",
      "Bial  22  223\n",
      "jamal  33  3434234\n",
      "kamal  11  234234\n",
      "saeed  45  33534254325\n",
      "irfan  44  23234\n"
     ]
    }
   ],
   "source": [
    "print(\"=============================================\")\n",
    "with open(\"user_input.txt\",\"r+\") as file:\n",
    "    print(file.read())"
   ]
  },
  {
   "cell_type": "code",
   "execution_count": 69,
   "metadata": {},
   "outputs": [],
   "source": [
    "# r+ will use to read and append to file\n",
    "# w+ will use to read and write to file"
   ]
  },
  {
   "cell_type": "code",
   "execution_count": null,
   "metadata": {},
   "outputs": [],
   "source": []
  }
 ],
 "metadata": {
  "kernelspec": {
   "display_name": "Python 3",
   "language": "python",
   "name": "python3"
  },
  "language_info": {
   "codemirror_mode": {
    "name": "ipython",
    "version": 3
   },
   "file_extension": ".py",
   "mimetype": "text/x-python",
   "name": "python",
   "nbconvert_exporter": "python",
   "pygments_lexer": "ipython3",
   "version": "3.7.3"
  }
 },
 "nbformat": 4,
 "nbformat_minor": 2
}
