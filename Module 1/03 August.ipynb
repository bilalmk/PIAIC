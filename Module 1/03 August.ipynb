{
 "cells": [
  {
   "cell_type": "code",
   "execution_count": 8,
   "metadata": {},
   "outputs": [
    {
     "name": "stdout",
     "output_type": "stream",
     "text": [
      "Enter Y/N y\n",
      "Enter your Name Bilal\n",
      "Enter your age 23\n",
      "Do you have NIC (Y/N) Y\n",
      "Bilal, can cast vote\n",
      "Enter Y/N Y\n",
      "Enter your Name Jamal\n",
      "Enter your age 25\n",
      "Do you have NIC (Y/N) N\n",
      "Jamal, is not allowed to cast his votes\n",
      "\n",
      "Enter Y/N N\n"
     ]
    }
   ],
   "source": [
    "flag=True\n",
    "with open(\"vote.txt\",\"w\") as f:\n",
    "    while(flag):\n",
    "        castVote = input(\"Enter Y/N \")\n",
    "        if(castVote.upper()==\"Y\"):\n",
    "            name = input(\"Enter your Name \")\n",
    "            age = int(input(\"Enter your age \"))\n",
    "            cnic = input(\"Do you have NIC (Y/N) \")\n",
    "            if(age>=18 and cnic.upper()=='Y'):\n",
    "                print(f\"{name}, can cast vote\")\n",
    "                f.write(f\"{name},can cast vote\\n\")\n",
    "            else:\n",
    "                print(f\"{name}, is not allowed to cast his votes\\n\")\n",
    "                f.write(f\"{name}, is not allowed to cast his votes\\n\")\n",
    "                \n",
    "        else:\n",
    "            flag=False"
   ]
  },
  {
   "cell_type": "markdown",
   "metadata": {},
   "source": [
    "\n",
    "c##### "
   ]
  }
 ],
 "metadata": {
  "kernelspec": {
   "display_name": "Python 3",
   "language": "python",
   "name": "python3"
  },
  "language_info": {
   "codemirror_mode": {
    "name": "ipython",
    "version": 3
   },
   "file_extension": ".py",
   "mimetype": "text/x-python",
   "name": "python",
   "nbconvert_exporter": "python",
   "pygments_lexer": "ipython3",
   "version": "3.7.3"
  }
 },
 "nbformat": 4,
 "nbformat_minor": 2
}
